{
 "cells": [
  {
   "cell_type": "markdown",
   "metadata": {},
   "source": [
    "# Build a system to auto-catagorize 16s rRNAs, ITS and blastn search"
   ]
  },
  {
   "cell_type": "markdown",
   "metadata": {},
   "source": [
    "## some constants"
   ]
  },
  {
   "cell_type": "markdown",
   "metadata": {},
   "source": [
    "### locations"
   ]
  },
  {
   "cell_type": "markdown",
   "metadata": {},
   "source": [
    " content | location \n",
    " -------: | :--------\n",
    " blast+ folder | `/home/p/blast/bin/`\n",
    " blastn | `/home/p/blast/bin/blastn`\n",
    " ascp | `/home/p/ascp/connect/bin/ascp`\n",
    " ~ | `/mnt/d/linux`"
   ]
  },
  {
   "cell_type": "markdown",
   "metadata": {},
   "source": [
    "### import required modules"
   ]
  },
  {
   "cell_type": "code",
   "execution_count": 74,
   "metadata": {},
   "outputs": [],
   "source": [
    "import pandas as pd\n",
    "import os\n",
    "import sys\n",
    "import shutil\n",
    "import re\n",
    "import pickle"
   ]
  },
  {
   "cell_type": "code",
   "execution_count": 67,
   "metadata": {},
   "outputs": [],
   "source": [
    "from urllib.request import urlopen\n",
    "from bs4 import BeautifulSoup\n",
    "import time\n",
    "from Bio import SeqIO\n",
    "from io import StringIO\n",
    "from collections import Counter"
   ]
  },
  {
   "cell_type": "markdown",
   "metadata": {},
   "source": [
    "## download data"
   ]
  },
  {
   "cell_type": "markdown",
   "metadata": {},
   "source": [
    "### download taxonamy, gss, wgs, est\n",
    "\n",
    "run with linux\n",
    "```\n",
    "/home/p/ascp/connect/bin/ascp -T -k 1 -i /home/p/ascp/connect/etc/asperaweb_id_dsa.openssh anonftp@ftp.ncbi.nlm.nih.gov:/pub/taxonomy/accession2taxid/nucl_gss.accession2taxid.gz  /mnt/d/linux/W/NCBI/taxonamy/\n",
    "\n",
    "/home/p/ascp/connect/bin/ascp -T -k 1 -i /home/p/ascp/connect/etc/asperaweb_id_dsa.openssh anonftp@ftp.ncbi.nlm.nih.gov:/pub/taxonomy/accession2taxid/nucl_wgs.accession2taxid.gz  /mnt/d/linux/W/NCBI/taxonamy/\n",
    "\n",
    "/home/p/ascp/connect/bin/ascp -T -k 1 -i /home/p/ascp/connect/etc/asperaweb_id_dsa.openssh anonftp@ftp.ncbi.nlm.nih.gov:/pub/taxonomy/accession2taxid/nucl_est.accession2taxid.gz  /mnt/d/linux/W/NCBI/taxonamy/\n",
    "\n",
    "/home/p/ascp/connect/bin/ascp -T -k 1 -i /home/p/ascp/connect/etc/asperaweb_id_dsa.openssh anonftp@ftp.ncbi.nlm.nih.gov:/pub/taxonomy/accession2taxid/nucl_gb.accession2taxid.gz  /mnt/d/linux/W/NCBI/taxonamy/\n",
    "\n",
    "\n",
    "/home/p/ascp/connect/bin/ascp -T -k 1 -i /home/p/ascp/connect/etc/asperaweb_id_dsa.openssh anonftp@ftp.ncbi.nlm.nih.gov:/pub/taxonomy/taxdump.tar.gz  /mnt/d/linux/W/NCBI/taxonamy/\n",
    "```\n",
    "\n",
    "### download nt\n",
    "run with linux\n",
    "```\n",
    "\n",
    "/home/p/ascp/connect/bin/ascp -T -k 1 -i /home/p/ascp/connect/etc/asperaweb_id_dsa.openssh anonftp@ftp.ncbi.nlm.nih.gov:/blast/db/FASTA//nt.gz  /mnt/d/linux/W/NCBI/nt20180810/\n",
    "\n",
    "```"
   ]
  },
  {
   "cell_type": "markdown",
   "metadata": {},
   "source": [
    "### unzip the data\n"
   ]
  },
  {
   "cell_type": "markdown",
   "metadata": {},
   "source": [
    "```\n",
    "cd /mnt/d/linux/W/NCBI/taxonamy20180810\n",
    "gzip -d *\n",
    "tar xf taxdump.tar\n",
    "rm taxdump.tar\n",
    "\n",
    "```"
   ]
  },
  {
   "cell_type": "markdown",
   "metadata": {},
   "source": [
    "## taxonomy"
   ]
  },
  {
   "cell_type": "markdown",
   "metadata": {},
   "source": [
    "Update the data to 20180810.  \n",
    "Use new method to include the whole lineage of different species. Use new method to retrieve taxonomy."
   ]
  },
  {
   "cell_type": "markdown",
   "metadata": {},
   "source": [
    "### taxonomy extract scientific name\n"
   ]
  },
  {
   "cell_type": "code",
   "execution_count": 29,
   "metadata": {},
   "outputs": [],
   "source": [
    "file_tax_name = '/mnt/d/linux/W/NCBI/taxonamy20180810/names.dmp'\n",
    "import pandas as pd\n",
    "df_name = pd.read_csv(file_tax_name,sep = \"\\t\", header = None,dtype = str)\n",
    "\n",
    "df_name = df_name.loc[:,[0,2,6]]\n",
    "df_name_keep = df_name[df_name[6] == \"scientific name\"]\n",
    "\n",
    "df_name_keep = df_name_keep.loc[:,[0,2]]\n",
    "df_name_keep.columns = [\"id\",\"name\"]\n",
    "df_name_keep.to_csv(\"/mnt/d/linux/W/NCBI/taxonamy20180810/speciesName\", sep = \"\\t\", float_format = \"%d\", index = False)"
   ]
  },
  {
   "cell_type": "markdown",
   "metadata": {},
   "source": [
    "### taxonomy, clear nodes.dmp, only keet 'tax_id, parent_id,rank'\n"
   ]
  },
  {
   "cell_type": "code",
   "execution_count": null,
   "metadata": {},
   "outputs": [],
   "source": [
    "file_tax_nodes = '/mnt/d/linux/W/NCBI/taxonamy20180810/nodes.dmp'\n",
    "import pandas as pd\n",
    "df_node = pd.read_csv(file_tax_nodes, sep = \"\\t\",header = None,dtype = str)\n",
    "df_node = df_node.loc[:,[0,2,4]]\n",
    "df_node.columns = [\"From\",\"To\",\"rank\"]\n",
    "df_node.head()\n",
    "df_node.to_csv(\"/mnt/d/linux/W/NCBI/taxonamy20180810/nodesLink\", sep = \"\\t\", float_format = \"%d\", index = False)"
   ]
  },
  {
   "cell_type": "markdown",
   "metadata": {},
   "source": [
    "### taxonomy, creat speciesLineage, all tax_ids, and find all their lineage.\n",
    "total tax_ids: 1832355. "
   ]
  },
  {
   "cell_type": "code",
   "execution_count": 45,
   "metadata": {},
   "outputs": [
    {
     "name": "stdout",
     "output_type": "stream",
     "text": [
      "(1832355, 3)\n",
      "total tax_ids: 1832355\n",
      "1832355\n"
     ]
    }
   ],
   "source": [
    "import pandas as pd\n",
    "file_tax_nodesLink = \"/mnt/d/linux/W/NCBI/taxonamy20180810/nodesLink\"\n",
    "df_node = pd.read_csv(file_tax_nodesLink, sep = \"\\t\",dtype = str)\n",
    "print(df_node.shape)\n",
    "ls_all_tax_ids = list(df_node['From'])\n",
    "print('total tax_ids:', len(ls_all_tax_ids))\n",
    "dc_node = dict(zip(list(df_node.loc[:,\"From\"]), list(df_node.loc[:,\"To\"])))\n",
    "dc_rank = dict(zip(list(df_node.loc[:,\"From\"]), list(df_node.loc[:,\"rank\"])))\n",
    "\n",
    "ls_all_tax_ids_lineage = []\n",
    "for _id in ls_all_tax_ids:\n",
    "    _From = _id\n",
    "    _To = dc_node[_From]\n",
    "    _id_lineage = []\n",
    "    while _To != _From:\n",
    "        _id_lineage.append(_From)\n",
    "        _From = _To\n",
    "        _To = dc_node[_From]\n",
    "    _id_lineage.append(_To)\n",
    "    ls_all_tax_ids_lineage.append(_id_lineage)\n",
    "#    break\n",
    "print(len(ls_all_tax_ids_lineage))\n",
    "\n",
    "fout = open('/mnt/d/linux/W/NCBI/taxonamy20180810/speciesLineage','w')\n",
    "for _e in ls_all_tax_ids_lineage:\n",
    "    fout.write('\\t'.join(_e)+'\\n')\n",
    "fout.close()"
   ]
  },
  {
   "cell_type": "markdown",
   "metadata": {},
   "source": [
    "### taxonomy, create speciesLineageName.\n",
    "For all lines in speciesLineage, if there is any element of them have the level of \"species\", keep it. Then the speciesLineageName. Columns tax_id, name, species_id, species, genus, family, order, class, phylum, kingdom.  \n",
    "For kingdom, keep those IDs {\"2\",\"2157\",\"12884\",\"10239\",\"4751\",\"33090\",\"33208\"}  "
   ]
  },
  {
   "cell_type": "code",
   "execution_count": 46,
   "metadata": {},
   "outputs": [
    {
     "name": "stdout",
     "output_type": "stream",
     "text": [
      "1713575\n"
     ]
    }
   ],
   "source": [
    "## generate speciesLineageName\n",
    "##  species, genus, family, order, class, phylum, kingdom.\n",
    "df_name = pd.read_csv('/mnt/d/linux/W/NCBI/taxonamy20180810/speciesName',sep='\\t',dtype=str)\n",
    "dc_name = dict(zip(df_name['id'],df_name['name']))\n",
    "kingdom_ids =  {\"2\",\"2157\",\"12884\",\"10239\",\"4751\",\"33090\",\"33208\"}\n",
    "rank_ids = {'genus','family','order','class','phylum'}\n",
    "ls_species_tax_ids_lineage = []\n",
    "for _l in ls_all_tax_ids_lineage:\n",
    "    for _id in _l:\n",
    "        if dc_rank[_id] == 'species':\n",
    "            ls_species_tax_ids_lineage.append(_l)\n",
    "            break\n",
    "print(len(ls_species_tax_ids_lineage))\n",
    "ls_species_tax_ids_dc = []\n",
    "for _l in ls_species_tax_ids_lineage:\n",
    "    _dc = {}\n",
    "    _dc['tax_id'] = _l[0]\n",
    "    if _id in dc_name:\n",
    "        _dc['name'] = dc_name[_l[0]]\n",
    "    for _id in _l:\n",
    "        if _id in kingdom_ids:\n",
    "            if _id in dc_name:\n",
    "                _dc['kingdom'] = dc_name[_id]\n",
    "        if dc_rank[_id] == 'species':\n",
    "            _dc['species_id'] = _id\n",
    "            if _id in dc_name:\n",
    "                _dc['species'] = dc_name[_id]\n",
    "        if dc_rank[_id] in rank_ids:\n",
    "            if _id in dc_name:\n",
    "                _dc[dc_rank[_id]] = dc_name[_id]\n",
    "    ls_species_tax_ids_dc.append(_dc)\n",
    "\n",
    "df_lineage = pd.DataFrame(ls_species_tax_ids_dc, dtype=str)\n",
    "df_lineage = df_lineage.loc[:,['tax_id','species_id',  'name','species','genus','family','order','class','phylum', 'kingdom']]\n",
    "df_lineage.to_csv('/mnt/d/linux/W/NCBI/taxonamy20180810/speciesLineageName',sep='\\t', index=None)"
   ]
  },
  {
   "cell_type": "markdown",
   "metadata": {},
   "source": [
    "### store the speciesLineageName dataframe in binary format to speed up future usage"
   ]
  },
  {
   "cell_type": "code",
   "execution_count": 75,
   "metadata": {},
   "outputs": [],
   "source": [
    "df_goodLineage = pd.read_csv(\"/mnt/d/linux/W/NCBI/taxonamy20180810/speciesLineageName\", sep = \"\\t\", dtype = str)\n",
    "df_goodLineage.index = df_goodLineage[\"tax_id\"]\n",
    "df_goodLineage = df_goodLineage.drop(labels=[\"tax_id\"], axis = 1)\n",
    "pickle.dump(df_goodLineage,open('/mnt/d/linux/W/NCBI/taxonamy20180810/speciesLineageName.memory','wb'))"
   ]
  },
  {
   "cell_type": "code",
   "execution_count": 77,
   "metadata": {},
   "outputs": [
    {
     "data": {
      "text/html": [
       "<div>\n",
       "<style scoped>\n",
       "    .dataframe tbody tr th:only-of-type {\n",
       "        vertical-align: middle;\n",
       "    }\n",
       "\n",
       "    .dataframe tbody tr th {\n",
       "        vertical-align: top;\n",
       "    }\n",
       "\n",
       "    .dataframe thead th {\n",
       "        text-align: right;\n",
       "    }\n",
       "</style>\n",
       "<table border=\"1\" class=\"dataframe\">\n",
       "  <thead>\n",
       "    <tr style=\"text-align: right;\">\n",
       "      <th></th>\n",
       "      <th>species_id</th>\n",
       "      <th>name</th>\n",
       "      <th>species</th>\n",
       "      <th>genus</th>\n",
       "      <th>family</th>\n",
       "      <th>order</th>\n",
       "      <th>class</th>\n",
       "      <th>phylum</th>\n",
       "      <th>kingdom</th>\n",
       "    </tr>\n",
       "    <tr>\n",
       "      <th>tax_id</th>\n",
       "      <th></th>\n",
       "      <th></th>\n",
       "      <th></th>\n",
       "      <th></th>\n",
       "      <th></th>\n",
       "      <th></th>\n",
       "      <th></th>\n",
       "      <th></th>\n",
       "      <th></th>\n",
       "    </tr>\n",
       "  </thead>\n",
       "  <tbody>\n",
       "    <tr>\n",
       "      <th>7</th>\n",
       "      <td>7</td>\n",
       "      <td>Azorhizobium caulinodans</td>\n",
       "      <td>Azorhizobium caulinodans</td>\n",
       "      <td>Azorhizobium</td>\n",
       "      <td>Xanthobacteraceae</td>\n",
       "      <td>Rhizobiales</td>\n",
       "      <td>Alphaproteobacteria</td>\n",
       "      <td>Proteobacteria</td>\n",
       "      <td>Bacteria</td>\n",
       "    </tr>\n",
       "    <tr>\n",
       "      <th>9</th>\n",
       "      <td>9</td>\n",
       "      <td>Buchnera aphidicola</td>\n",
       "      <td>Buchnera aphidicola</td>\n",
       "      <td>Buchnera</td>\n",
       "      <td>Erwiniaceae</td>\n",
       "      <td>Enterobacterales</td>\n",
       "      <td>Gammaproteobacteria</td>\n",
       "      <td>Proteobacteria</td>\n",
       "      <td>Bacteria</td>\n",
       "    </tr>\n",
       "    <tr>\n",
       "      <th>11</th>\n",
       "      <td>11</td>\n",
       "      <td>Cellulomonas gilvus</td>\n",
       "      <td>Cellulomonas gilvus</td>\n",
       "      <td>Cellulomonas</td>\n",
       "      <td>Cellulomonadaceae</td>\n",
       "      <td>Micrococcales</td>\n",
       "      <td>Actinobacteria</td>\n",
       "      <td>Actinobacteria</td>\n",
       "      <td>Bacteria</td>\n",
       "    </tr>\n",
       "    <tr>\n",
       "      <th>14</th>\n",
       "      <td>14</td>\n",
       "      <td>Dictyoglomus thermophilum</td>\n",
       "      <td>Dictyoglomus thermophilum</td>\n",
       "      <td>Dictyoglomus</td>\n",
       "      <td>Dictyoglomaceae</td>\n",
       "      <td>Dictyoglomales</td>\n",
       "      <td>Dictyoglomia</td>\n",
       "      <td>Dictyoglomi</td>\n",
       "      <td>Bacteria</td>\n",
       "    </tr>\n",
       "    <tr>\n",
       "      <th>17</th>\n",
       "      <td>17</td>\n",
       "      <td>Methylophilus methylotrophus</td>\n",
       "      <td>Methylophilus methylotrophus</td>\n",
       "      <td>Methylophilus</td>\n",
       "      <td>Methylophilaceae</td>\n",
       "      <td>Nitrosomonadales</td>\n",
       "      <td>Betaproteobacteria</td>\n",
       "      <td>Proteobacteria</td>\n",
       "      <td>Bacteria</td>\n",
       "    </tr>\n",
       "  </tbody>\n",
       "</table>\n",
       "</div>"
      ],
      "text/plain": [
       "       species_id                          name                       species  \\\n",
       "tax_id                                                                          \n",
       "7               7      Azorhizobium caulinodans      Azorhizobium caulinodans   \n",
       "9               9           Buchnera aphidicola           Buchnera aphidicola   \n",
       "11             11           Cellulomonas gilvus           Cellulomonas gilvus   \n",
       "14             14     Dictyoglomus thermophilum     Dictyoglomus thermophilum   \n",
       "17             17  Methylophilus methylotrophus  Methylophilus methylotrophus   \n",
       "\n",
       "                genus             family             order  \\\n",
       "tax_id                                                       \n",
       "7        Azorhizobium  Xanthobacteraceae       Rhizobiales   \n",
       "9            Buchnera        Erwiniaceae  Enterobacterales   \n",
       "11       Cellulomonas  Cellulomonadaceae     Micrococcales   \n",
       "14       Dictyoglomus    Dictyoglomaceae    Dictyoglomales   \n",
       "17      Methylophilus   Methylophilaceae  Nitrosomonadales   \n",
       "\n",
       "                      class          phylum   kingdom  \n",
       "tax_id                                                 \n",
       "7       Alphaproteobacteria  Proteobacteria  Bacteria  \n",
       "9       Gammaproteobacteria  Proteobacteria  Bacteria  \n",
       "11           Actinobacteria  Actinobacteria  Bacteria  \n",
       "14             Dictyoglomia     Dictyoglomi  Bacteria  \n",
       "17       Betaproteobacteria  Proteobacteria  Bacteria  "
      ]
     },
     "execution_count": 77,
     "metadata": {},
     "output_type": "execute_result"
    }
   ],
   "source": [
    "df_goodLineage.head()"
   ]
  },
  {
   "cell_type": "markdown",
   "metadata": {},
   "source": [
    "## Ezbio\n",
    "update the data to 20180810.  \n",
    "From this webpage `https://www.ezbiocloud.net/16SrRNA_list?tn=Root` to get the accession numbers of all 64,660 RNA sequences.  \n",
    "The table is saved as `/mnt/d/linux/W/NCBI/Ezbio20180810/Ezbio20180810AccTable64660_16s_rRNA.txt`."
   ]
  },
  {
   "cell_type": "markdown",
   "metadata": {},
   "source": [
    "### Get 16s sequences"
   ]
  },
  {
   "cell_type": "markdown",
   "metadata": {},
   "source": [
    "change working directory to Ezbio"
   ]
  },
  {
   "cell_type": "code",
   "execution_count": 4,
   "metadata": {},
   "outputs": [],
   "source": [
    "os.chdir('/mnt/d/linux/W/NCBI/Ezbio20180810/')"
   ]
  },
  {
   "cell_type": "markdown",
   "metadata": {},
   "source": [
    "read the Ezbio Acc Table file"
   ]
  },
  {
   "cell_type": "code",
   "execution_count": 5,
   "metadata": {
    "scrolled": true
   },
   "outputs": [
    {
     "data": {
      "text/html": [
       "<div>\n",
       "<style scoped>\n",
       "    .dataframe tbody tr th:only-of-type {\n",
       "        vertical-align: middle;\n",
       "    }\n",
       "\n",
       "    .dataframe tbody tr th {\n",
       "        vertical-align: top;\n",
       "    }\n",
       "\n",
       "    .dataframe thead th {\n",
       "        text-align: right;\n",
       "    }\n",
       "</style>\n",
       "<table border=\"1\" class=\"dataframe\">\n",
       "  <thead>\n",
       "    <tr style=\"text-align: right;\">\n",
       "      <th></th>\n",
       "      <th>Accession</th>\n",
       "      <th>Taxon name</th>\n",
       "      <th>Strain name</th>\n",
       "      <th>Taxonomy</th>\n",
       "    </tr>\n",
       "  </thead>\n",
       "  <tbody>\n",
       "    <tr>\n",
       "      <th>0</th>\n",
       "      <td>A61579</td>\n",
       "      <td>A61579_s</td>\n",
       "      <td>DSM 9460</td>\n",
       "      <td>Bacteria;Thermotogae;Thermotogae_c;Thermotogal...</td>\n",
       "    </tr>\n",
       "    <tr>\n",
       "      <th>1</th>\n",
       "      <td>AAAP01003867</td>\n",
       "      <td>Magnetospirillum magnetotacticum</td>\n",
       "      <td>MS-1(T)</td>\n",
       "      <td>Bacteria;Proteobacteria;Alphaproteobacteria;Rh...</td>\n",
       "    </tr>\n",
       "    <tr>\n",
       "      <th>2</th>\n",
       "      <td>AABF01000026</td>\n",
       "      <td>Fusobacterium nucleatum subsp. vincentii</td>\n",
       "      <td>ATCC 49256(T)</td>\n",
       "      <td>Bacteria;Fusobacteria;Fusobacteria_c;Fusobacte...</td>\n",
       "    </tr>\n",
       "    <tr>\n",
       "      <th>3</th>\n",
       "      <td>AABW01000001</td>\n",
       "      <td>Rickettsia sibirica</td>\n",
       "      <td>246(T)</td>\n",
       "      <td>Bacteria;Proteobacteria;Alphaproteobacteria;Ri...</td>\n",
       "    </tr>\n",
       "    <tr>\n",
       "      <th>4</th>\n",
       "      <td>AACK01000032</td>\n",
       "      <td>Actinobacillus pleuropneumoniae</td>\n",
       "      <td>Shope 4074(T)</td>\n",
       "      <td>Bacteria;Proteobacteria;Gammaproteobacteria;Pa...</td>\n",
       "    </tr>\n",
       "  </tbody>\n",
       "</table>\n",
       "</div>"
      ],
      "text/plain": [
       "      Accession                                Taxon name    Strain name  \\\n",
       "0        A61579                                  A61579_s       DSM 9460   \n",
       "1  AAAP01003867          Magnetospirillum magnetotacticum        MS-1(T)   \n",
       "2  AABF01000026  Fusobacterium nucleatum subsp. vincentii  ATCC 49256(T)   \n",
       "3  AABW01000001                       Rickettsia sibirica         246(T)   \n",
       "4  AACK01000032           Actinobacillus pleuropneumoniae  Shope 4074(T)   \n",
       "\n",
       "                                            Taxonomy  \n",
       "0  Bacteria;Thermotogae;Thermotogae_c;Thermotogal...  \n",
       "1  Bacteria;Proteobacteria;Alphaproteobacteria;Rh...  \n",
       "2  Bacteria;Fusobacteria;Fusobacteria_c;Fusobacte...  \n",
       "3  Bacteria;Proteobacteria;Alphaproteobacteria;Ri...  \n",
       "4  Bacteria;Proteobacteria;Gammaproteobacteria;Pa...  "
      ]
     },
     "execution_count": 5,
     "metadata": {},
     "output_type": "execute_result"
    }
   ],
   "source": [
    "df_EzTab = pd.read_csv('Ezbio20180810AccTable64660_16s_rRNA.txt', sep='\\t',dtype=str)\n",
    "df_EzTab.head()"
   ]
  },
  {
   "cell_type": "markdown",
   "metadata": {},
   "source": [
    "get list of nucleotide sequences and download them from ncbi.  \n",
    "Nucleotide: 1 letter + 5 numerals OR 2 letters + 6 numerals"
   ]
  },
  {
   "cell_type": "code",
   "execution_count": 7,
   "metadata": {},
   "outputs": [
    {
     "name": "stdout",
     "output_type": "stream",
     "text": [
      "['A61579', 'AB000481', 'AB000700', 'AB001519', 'AB001520']\n"
     ]
    },
    {
     "data": {
      "text/plain": [
       "518752"
      ]
     },
     "execution_count": 7,
     "metadata": {},
     "output_type": "execute_result"
    }
   ],
   "source": [
    "pattern_acc_nuc = re.compile('^\\w{1,2}\\d*$',re.I)\n",
    "ls_acc_nuc = [e for e in df_EzTab['Accession'] if re.match(pattern_acc_nuc,e)]\n",
    "print(ls_acc_nuc[:5])\n",
    "open('Ezbio20180810Acc_16s_rRNA_nucleotides.txt','w').write('\\n'.join(ls_acc_nuc))"
   ]
  },
  {
   "cell_type": "code",
   "execution_count": 27,
   "metadata": {},
   "outputs": [
    {
     "name": "stdout",
     "output_type": "stream",
     "text": [
      "Accession num: 64660 Accession num unique 54660\n"
     ]
    }
   ],
   "source": [
    "print('Accession num:', len(df_EzTab['Accession']), \"Accession num unique\", len(set(df_EzTab['Accession'])))"
   ]
  },
  {
   "cell_type": "code",
   "execution_count": 38,
   "metadata": {},
   "outputs": [],
   "source": [
    "st_acc_Ez = set(df_EzTab['Accession'])"
   ]
  },
  {
   "cell_type": "code",
   "execution_count": 39,
   "metadata": {
    "scrolled": true
   },
   "outputs": [
    {
     "name": "stdout",
     "output_type": "stream",
     "text": [
      "nucleotide 47914 WGS 6112 other 634\n"
     ]
    }
   ],
   "source": [
    "pattern_acc_nuc = re.compile('^\\w{1,2}\\d*$',re.I)\n",
    "ls_acc_nuc = [e for e in st_acc_Ez if re.match(pattern_acc_nuc,e)]\n",
    "st_acc_nuc = set(ls_acc_nuc)\n",
    "ls_acc_notnuc = [e for e in st_acc_Ez if e not in st_acc_nuc]\n",
    "pattern_acc_WGS = re.compile('^\\w{4}\\d*$',re.I)\n",
    "ls_acc_WGS = [e for e in ls_acc_notnuc if re.match(pattern_acc_WGS,e)]\n",
    "st_acc_WGS = set(ls_acc_WGS)\n",
    "ls_acc_notWGS = [e for e in ls_acc_notnuc if e not in st_acc_WGS]\n",
    "print('nucleotide',len(ls_acc_nuc),'WGS',len(ls_acc_WGS),'other',len(ls_acc_notWGS))"
   ]
  },
  {
   "cell_type": "markdown",
   "metadata": {},
   "source": [
    "Remove the 634 sequences. Most of the are JGI:00000000 sequences, cannot find the seq from JGI.  \n",
    "For nucleotide sequences, and WGS sequences, try to get them from SILVA first. "
   ]
  },
  {
   "cell_type": "code",
   "execution_count": 40,
   "metadata": {},
   "outputs": [
    {
     "name": "stdout",
     "output_type": "stream",
     "text": [
      "Ez_nuc in SILVA 45904 seqs 50306\n",
      "Ez_WGS in SILVA 3260 seqs 3786\n"
     ]
    }
   ],
   "source": [
    "from Bio import SeqIO\n",
    "file_silva_fasta = '/mnt/d/linux/W/NCBI/SILVA/SILVA16sDNA.fasta'\n",
    "ls_fasta_silva = list(SeqIO.parse(open(file_silva_fasta),'fasta'))\n",
    "dc_silva_fasta = {}\n",
    "for _s in ls_fasta_silva:\n",
    "    _acc = _s.id.split('.')[0]\n",
    "    if _s.id.split('.')[0] not in dc_silva_fasta:\n",
    "        dc_silva_fasta[_acc] = []\n",
    "    dc_silva_fasta[_acc].append(_s)\n",
    "\n",
    "ls_fasta_Ez_nuc = [dc_silva_fasta[e] for e in ls_acc_nuc if e in dc_silva_fasta]\n",
    "ls_fasta_Ez_WGS = [dc_silva_fasta[e] for e in ls_acc_WGS if e in dc_silva_fasta]\n",
    "ls_fasta_Ez_nuc_seqs = [i for j in ls_fasta_Ez_nuc for i in j]\n",
    "ls_fasta_Ez_WGS_seqs = [i for j in ls_fasta_Ez_WGS for i in j]\n",
    "ls_acc_missingSILVA = [e for e in ls_acc_nuc if e not in dc_silva_fasta] + [e for e in ls_acc_WGS if e not in dc_silva_fasta]\n",
    "print('Ez_nuc in SILVA', len(ls_fasta_Ez_nuc,), 'seqs', len(ls_fasta_Ez_nuc_seqs))\n",
    "print('Ez_WGS in SILVA', len(ls_fasta_Ez_WGS,), 'seqs', len(ls_fasta_Ez_WGS_seqs))"
   ]
  },
  {
   "cell_type": "code",
   "execution_count": 41,
   "metadata": {},
   "outputs": [
    {
     "name": "stdout",
     "output_type": "stream",
     "text": [
      "missing ids in SILVA 4862 unique count: 4862\n"
     ]
    }
   ],
   "source": [
    "st_acc_missingSILVA = set(ls_acc_missingSILVA)\n",
    "print('missing ids in SILVA', len(ls_acc_missingSILVA),\"unique count:\",len(st_acc_missingSILVA))"
   ]
  },
  {
   "cell_type": "markdown",
   "metadata": {},
   "source": [
    "define the function to download seq from Ezbio"
   ]
  },
  {
   "cell_type": "code",
   "execution_count": 19,
   "metadata": {},
   "outputs": [],
   "source": [
    "def accEzbioWebRequest(acc):\n",
    "    '''\n",
    "    given a acc number, return a fasta seqrecord of Biopython\n",
    "    '''\n",
    "    n = 1\n",
    "    while n<100:\n",
    "        try:\n",
    "            html = urlopen('https://www.ezbiocloud.net/16SrRNA?ac='+acc)\n",
    "            \n",
    "            txt = html.read().decode()\n",
    "            seqs = re.findall(re.compile('data-clipboard-text=\">{acc}.*?\"'.format(acc=acc)),txt)\n",
    "            if len(seqs) != 1:\n",
    "                print(acc,'not exist')\n",
    "                return None\n",
    "            seq = seqs[0]\n",
    "            seq = seq.replace('data-clipboard-text=\"','')\n",
    "            seq = seq.replace('\"','')\n",
    "            seq = seq.replace('&#13;&#10;','\\n')\n",
    "            return SeqIO.read(StringIO(seq),'fasta')\n",
    "        except:\n",
    "            time.sleep(1)\n",
    "            n += 1\n",
    "            print('try the', n, 'time for ', acc)\n",
    "    print('tried 100 times, no good for ', acc)\n",
    "    return None"
   ]
  },
  {
   "cell_type": "markdown",
   "metadata": {},
   "source": [
    "download sequences from Ezbio"
   ]
  },
  {
   "cell_type": "code",
   "execution_count": 21,
   "metadata": {},
   "outputs": [],
   "source": [
    "dc_fasta_missingSILVA = {}"
   ]
  },
  {
   "cell_type": "code",
   "execution_count": 22,
   "metadata": {},
   "outputs": [
    {
     "name": "stdout",
     "output_type": "stream",
     "text": [
      "100 finished\n",
      "200 finished\n",
      "300 finished\n",
      "400 finished\n",
      "500 finished\n",
      "600 finished\n",
      "700 finished\n",
      "800 finished\n",
      "900 finished\n",
      "1000 finished\n",
      "1100 finished\n",
      "1200 finished\n",
      "1300 finished\n",
      "1400 finished\n",
      "1500 finished\n",
      "1600 finished\n",
      "1700 finished\n",
      "1800 finished\n",
      "1900 finished\n",
      "2000 finished\n",
      "2100 finished\n",
      "2200 finished\n",
      "2300 finished\n",
      "2400 finished\n",
      "2500 finished\n",
      "2600 finished\n",
      "2700 finished\n",
      "2800 finished\n",
      "2900 finished\n",
      "3000 finished\n",
      "3100 finished\n",
      "3200 finished\n",
      "3300 finished\n",
      "3400 finished\n",
      "3500 finished\n",
      "3600 finished\n",
      "3700 finished\n",
      "3800 finished\n",
      "3900 finished\n",
      "4000 finished\n",
      "4100 finished\n",
      "4200 finished\n",
      "4300 finished\n",
      "4400 finished\n",
      "4500 finished\n",
      "4600 finished\n",
      "4700 finished\n",
      "4800 finished\n"
     ]
    }
   ],
   "source": [
    "for _e in st_acc_missingSILVA:\n",
    "    if _e not in dc_fasta_missingSILVA:\n",
    "        dc_fasta_missingSILVA[_e] = accEzbioWebRequest(_e)\n",
    "    _n = len(dc_fasta_missingSILVA)\n",
    "    if _n % 100 == 0:\n",
    "        print(_n,'finished')\n"
   ]
  },
  {
   "cell_type": "markdown",
   "metadata": {},
   "source": [
    "save sequences"
   ]
  },
  {
   "cell_type": "code",
   "execution_count": 42,
   "metadata": {},
   "outputs": [
    {
     "name": "stdout",
     "output_type": "stream",
     "text": [
      "58954\n"
     ]
    }
   ],
   "source": [
    "ls_fasta_ez = list(dc_fasta_missingSILVA.values()) + ls_fasta_Ez_WGS_seqs + ls_fasta_Ez_nuc_seqs\n",
    "print(len(ls_fasta_ez))"
   ]
  },
  {
   "cell_type": "code",
   "execution_count": 43,
   "metadata": {},
   "outputs": [],
   "source": [
    "fout = open('/mnt/d/linux/W/NCBI/Ezbio20180810/Ezbio20180810.fasta','w')\n",
    "for _e in ls_fasta_ez:\n",
    "    fout.write('>'+_e.id+'\\n'+str(_e.seq)+'\\n')\n",
    "fout.close()"
   ]
  },
  {
   "cell_type": "markdown",
   "metadata": {},
   "source": [
    "### get taxa for Ezbio"
   ]
  },
  {
   "cell_type": "code",
   "execution_count": 68,
   "metadata": {},
   "outputs": [
    {
     "name": "stdout",
     "output_type": "stream",
     "text": [
      "58954\n"
     ]
    }
   ],
   "source": [
    "ls_fasta_ez = list(SeqIO.parse(open('/mnt/d/linux/W/NCBI/Ezbio20180810/Ezbio20180810.fasta'),'fasta'))\n",
    "print(len(ls_fasta_ez))"
   ]
  },
  {
   "cell_type": "code",
   "execution_count": 71,
   "metadata": {},
   "outputs": [
    {
     "name": "stdout",
     "output_type": "stream",
     "text": [
      "54026\n"
     ]
    }
   ],
   "source": [
    "accs = set([e.id.split('.')[0] for e in ls_fasta_ez])\n",
    "print(len(accs))"
   ]
  },
  {
   "cell_type": "code",
   "execution_count": 72,
   "metadata": {},
   "outputs": [
    {
     "name": "stdout",
     "output_type": "stream",
     "text": [
      "54026 47430\n",
      "54026 0\n",
      "54026 3797\n",
      "54026 0\n"
     ]
    }
   ],
   "source": [
    "dc_acc2tax = dict.fromkeys(accs)\n",
    "\n",
    "f_acc2tax = \"/mnt/d/linux/W/NCBI//taxonamy20180810/nucl_gb.accession2taxid\"\n",
    "fo = open(f_acc2tax)\n",
    "fo.readline()\n",
    "n=0\n",
    "for l in fo:\n",
    "    es = l.split()\n",
    "    if es[0] in dc_acc2tax:\n",
    "        dc_acc2tax[es[0]] = es[2]\n",
    "        n+=1\n",
    "fo.close()\n",
    "print(len(dc_acc2tax),n)\n",
    "\n",
    "f_acc2tax = \"/mnt/d/linux/W/NCBI//taxonamy20180810/nucl_gss.accession2taxid\"\n",
    "fo = open(f_acc2tax)\n",
    "fo.readline()\n",
    "n = 0\n",
    "for l in fo:\n",
    "    es = l.split()\n",
    "    if es[0] in dc_acc2tax:\n",
    "        n+=1\n",
    "        dc_acc2tax[es[0]] = es[2]\n",
    "fo.close()\n",
    "print(len(dc_acc2tax),n)\n",
    "\n",
    "f_acc2tax = \"/mnt/d/linux/W/NCBI//taxonamy20180810/nucl_wgs.accession2taxid\"\n",
    "fo = open(f_acc2tax)\n",
    "fo.readline()\n",
    "n=0\n",
    "for l in fo:\n",
    "    es = l.split()\n",
    "    if es[0] in dc_acc2tax:\n",
    "        dc_acc2tax[es[0]] = es[2]\n",
    "        n+=1\n",
    "fo.close()\n",
    "print(len(dc_acc2tax),n)\n",
    "\n",
    "f_acc2tax = \"/mnt/d/linux/W/NCBI//taxonamy20180810/nucl_est.accession2taxid\"\n",
    "fo = open(f_acc2tax)\n",
    "fo.readline()\n",
    "n=0\n",
    "for l in fo:\n",
    "    es = l.split()\n",
    "    if es[0] in dc_acc2tax:\n",
    "        dc_acc2tax[es[0]] = es[2]\n",
    "        n+=1\n",
    "fo.close()\n",
    "print(len(dc_acc2tax),n)\n",
    "\n",
    "\n",
    "fout = open(\"/mnt/d/linux/W/NCBI/Ezbio20180810/Ezbio20180810.taxa\",\"w\")\n",
    "fout2 = open(\"/mnt/d/linux/W/NCBI/Ezbio20180810/Ezbio20180810.taxaRare\",\"w\")\n",
    "for _k,_v in dc_acc2tax.items():\n",
    "    if _v:\n",
    "        fout.write(_k + \"\\t\" + _v +\"\\n\")\n",
    "    else:\n",
    "        fout2.write(_k + \"\\n\")\n",
    "fout.close()\n",
    "fout2.close()"
   ]
  },
  {
   "cell_type": "markdown",
   "metadata": {},
   "source": [
    "2799 accs do not have taxID. Find those sequences, and replace accession number with newest version in NCBI.\n",
    "```\n",
    "/home/p/blast/bin/blastn -db /mnt/d/linux/W/NCBI/nt20180810/nt_micro -query /mnt/d/linux/W/NCBI/Ezbio20180810/Ezbio20180810.taxaRare.fasta  -out /mnt/d/linux/W/NCBI/Ezbio20180810/Ezbio20180810.taxaRare.fasta.nt.tab -num_threads 24 -max_target_seqs 10 -word_size 100 -outfmt '6 qseqid sseqid pident length mismatch gapopen qstart qend sstart send evalue bitscore qcovhsp staxids'\n",
    "\n",
    "/home/p/blast/bin/blastn -db /mnt/d/linux/W/NCBI/SILVA/SILVA16sDNA -query /mnt/d/linux/W/NCBI/Ezbio20180810/Ezbio20180810.taxaRare.fasta  -out /mnt/d/linux/W/NCBI/Ezbio20180810/Ezbio20180810.taxaRare.fasta.SILVA.tab -num_threads 24 -max_target_seqs 10 -word_size 100 -outfmt '6 qseqid sseqid pident length mismatch gapopen qstart qend sstart send evalue bitscore qcovhsp staxids'\n",
    "```\n",
    "It's hard to find sequences 100% identical to them."
   ]
  },
  {
   "cell_type": "code",
   "execution_count": 73,
   "metadata": {},
   "outputs": [
    {
     "name": "stdout",
     "output_type": "stream",
     "text": [
      "2799\n"
     ]
    }
   ],
   "source": [
    "st_ez_acc_noTax = set(open(\"/mnt/d/linux/W/NCBI/Ezbio20180810/Ezbio20180810.taxaRare\").read().split())\n",
    "ls_fasta_ez_noTax = [e for e in ls_fasta_ez if e.id.split('.')[0] in st_ez_acc_noTax]\n",
    "print(len(ls_fasta_ez_noTax))\n",
    "fout = open(\"/mnt/d/linux/W/NCBI/Ezbio20180810/Ezbio20180810.taxaRare.fasta\",'w')\n",
    "for e in ls_fasta_ez_noTax:\n",
    "    fout.write('>'+e.id+'\\n'+str(e.seq)+'\\n')\n",
    "fout.close()"
   ]
  },
  {
   "cell_type": "markdown",
   "metadata": {},
   "source": [
    "### make blast DB"
   ]
  },
  {
   "cell_type": "markdown",
   "metadata": {},
   "source": [
    "run with linux\n",
    "\n",
    "```\n",
    "cd /mnt/d/linux/W/NCBI/Ezbio20180810\n",
    "/home/p/blast/bin/dustmasker -in Ezbio20180810.fasta -infmt fasta -parse_seqids -outfmt maskinfo_asn1_bin -out Ezbio20180810.asnb\n",
    "\n",
    "/home/p/blast/bin/makeblastdb -in Ezbio20180810.fasta -input_type fasta -dbtype nucl -mask_data Ezbio20180810.asnb -out Ezbio20180810 -title \"Ezbio20180810\" -parse_seqids -taxid_map /mnt/d/linux/W/NCBI/Ezbio20180810/Ezbio20180810.taxa\n",
    "\n",
    "```"
   ]
  },
  {
   "cell_type": "markdown",
   "metadata": {},
   "source": [
    "## nt"
   ]
  },
  {
   "cell_type": "markdown",
   "metadata": {},
   "source": [
    "### extract taxid from nt"
   ]
  },
  {
   "cell_type": "code",
   "execution_count": 30,
   "metadata": {},
   "outputs": [
    {
     "name": "stdout",
     "output_type": "stream",
     "text": [
      "49326191\n"
     ]
    },
    {
     "ename": "KeyboardInterrupt",
     "evalue": "",
     "output_type": "error",
     "traceback": [
      "\u001b[0;31m---------------------------------------------------------------------------\u001b[0m",
      "\u001b[0;31mKeyboardInterrupt\u001b[0m                         Traceback (most recent call last)",
      "\u001b[0;32m<ipython-input-30-ffef25426c7e>\u001b[0m in \u001b[0;36m<module>\u001b[0;34m()\u001b[0m\n\u001b[1;32m     17\u001b[0m \u001b[0;32mfor\u001b[0m \u001b[0ml\u001b[0m \u001b[0;32min\u001b[0m \u001b[0mfo\u001b[0m\u001b[0;34m:\u001b[0m\u001b[0;34m\u001b[0m\u001b[0m\n\u001b[1;32m     18\u001b[0m     \u001b[0mes\u001b[0m \u001b[0;34m=\u001b[0m \u001b[0ml\u001b[0m\u001b[0;34m.\u001b[0m\u001b[0msplit\u001b[0m\u001b[0;34m(\u001b[0m\u001b[0;34m)\u001b[0m\u001b[0;34m\u001b[0m\u001b[0m\n\u001b[0;32m---> 19\u001b[0;31m     \u001b[0;32mif\u001b[0m \u001b[0mes\u001b[0m\u001b[0;34m[\u001b[0m\u001b[0;36m0\u001b[0m\u001b[0;34m]\u001b[0m \u001b[0;32min\u001b[0m \u001b[0maccs\u001b[0m\u001b[0;34m:\u001b[0m\u001b[0;34m\u001b[0m\u001b[0m\n\u001b[0m\u001b[1;32m     20\u001b[0m         \u001b[0mdc_acc2tax\u001b[0m\u001b[0;34m[\u001b[0m\u001b[0mes\u001b[0m\u001b[0;34m[\u001b[0m\u001b[0;36m0\u001b[0m\u001b[0;34m]\u001b[0m\u001b[0;34m]\u001b[0m \u001b[0;34m=\u001b[0m \u001b[0mes\u001b[0m\u001b[0;34m[\u001b[0m\u001b[0;36m2\u001b[0m\u001b[0;34m]\u001b[0m\u001b[0;34m\u001b[0m\u001b[0m\n\u001b[1;32m     21\u001b[0m \u001b[0mfo\u001b[0m\u001b[0;34m.\u001b[0m\u001b[0mclose\u001b[0m\u001b[0;34m(\u001b[0m\u001b[0;34m)\u001b[0m\u001b[0;34m\u001b[0m\u001b[0m\n",
      "\u001b[0;31mKeyboardInterrupt\u001b[0m: "
     ]
    }
   ],
   "source": [
    "f_nt = \"/mnt/d/linux/W/NCBI/nt20180810/nt\"\n",
    "from Bio import SeqIO\n",
    "seqs = SeqIO.parse(open(f_nt), \"fasta\")\n",
    "accs = []\n",
    "for seq in seqs:\n",
    "    accs.append(seq.id.split(\".\")[0])\n",
    "print(len(accs))\n",
    "\n",
    "# get taxid\n",
    "#accs = set(accs)\n",
    "#creat a dictionary with accession number as key, tax id as value"
   ]
  },
  {
   "cell_type": "code",
   "execution_count": null,
   "metadata": {},
   "outputs": [],
   "source": [
    "dc_acc2tax = dict.fromkeys(accs)\n",
    "\n",
    "f_acc2tax = \"/mnt/d/linux/W/NCBI//taxonamy20180810/nucl_gb.accession2taxid\"\n",
    "fo = open(f_acc2tax)\n",
    "fo.readline()\n",
    "n=0\n",
    "for l in fo:\n",
    "    es = l.split()\n",
    "    if es[0] in dc_acc2tax:\n",
    "        dc_acc2tax[es[0]] = es[2]\n",
    "        n+=1\n",
    "fo.close()\n",
    "print(len(dc_acc2tax),n)\n",
    "\n",
    "f_acc2tax = \"/mnt/d/linux/W/NCBI//taxonamy20180810/nucl_gss.accession2taxid\"\n",
    "fo = open(f_acc2tax)\n",
    "fo.readline()\n",
    "n = 0\n",
    "for l in fo:\n",
    "    es = l.split()\n",
    "    if es[0] in dc_acc2tax:\n",
    "        n+=1\n",
    "        dc_acc2tax[es[0]] = es[2]\n",
    "fo.close()\n",
    "print(len(dc_acc2tax),n)\n",
    "\n",
    "f_acc2tax = \"/mnt/d/linux/W/NCBI//taxonamy20180810/nucl_wgs.accession2taxid\"\n",
    "fo = open(f_acc2tax)\n",
    "fo.readline()\n",
    "n=0\n",
    "for l in fo:\n",
    "    es = l.split()\n",
    "    if es[0] in dc_acc2tax:\n",
    "        dc_acc2tax[es[0]] = es[2]\n",
    "        n+=1\n",
    "fo.close()\n",
    "print(len(dc_acc2tax),n)\n",
    "\n",
    "f_acc2tax = \"/mnt/d/linux/W/NCBI//taxonamy20180810/nucl_est.accession2taxid\"\n",
    "fo = open(f_acc2tax)\n",
    "fo.readline()\n",
    "n=0\n",
    "for l in fo:\n",
    "    es = l.split()\n",
    "    if es[0] in dc_acc2tax:\n",
    "        dc_acc2tax[es[0]] = es[2]\n",
    "        n+=1\n",
    "fo.close()\n",
    "print(len(dc_acc2tax),n)\n",
    "\n",
    "\n",
    "fout = open(\"/mnt/d/linux/W/NCBI/nt20180810/nt.taxa\",\"w\")\n",
    "fout2 = open(\"/mnt/d/linux/W/NCBI/nt20180810/nt.taxaRare\",\"w\")\n",
    "for _k,_v in dc_acc2tax.items():\n",
    "    if _v:\n",
    "        fout.write(_k + \"\\t\" + _v +\"\\n\")\n",
    "    else:\n",
    "        fout2.write(_k + \"\\n\")\n",
    "fout.close()\n",
    "fout2.close()"
   ]
  },
  {
   "cell_type": "code",
   "execution_count": 32,
   "metadata": {},
   "outputs": [
    {
     "data": {
      "text/plain": [
       "534660009"
      ]
     },
     "execution_count": 32,
     "metadata": {},
     "output_type": "execute_result"
    }
   ],
   "source": [
    "open('/mnt/d/linux/W/NCBI/nt20180810/nt.acc','w').write('\\n'.join(accs))"
   ]
  },
  {
   "cell_type": "markdown",
   "metadata": {},
   "source": [
    "### find taxa for nt.taxaRare\n",
    "\n",
    "Those IDs might be too new and not included in the database yet. Use python code to get there taxonomy"
   ]
  },
  {
   "cell_type": "code",
   "execution_count": 34,
   "metadata": {},
   "outputs": [],
   "source": [
    "## extract taxonomy from nt_taxRare\n",
    "def accNCBIgetTax(accs):\n",
    "    '''\n",
    "    given a list of acc numbers, return list of acc and taxid\n",
    "    '''\n",
    "    n = 1\n",
    "    acc_join = ','.join(accs)\n",
    "    while n<100:\n",
    "        try:\n",
    "            html = urlopen('https://eutils.ncbi.nlm.nih.gov/entrez/eutils/esummary.fcgi?db=nucleotide&id='+acc_join)\n",
    "            \n",
    "            txt = html.read().decode()\n",
    "            txts = txt.split('</DocSum>')\n",
    "            taxids = []\n",
    "            for _n,acc in enumerate(accs):\n",
    "                _m = re.search('<Item Name=\"TaxId\" Type=\"Integer\">(\\d*)</Item>',txts[_n])\n",
    "                if _m:\n",
    "                    tax_id = _m.group(1)\n",
    "                taxids.append([acc, tax_id])\n",
    "            return taxids\n",
    "        except:\n",
    "            time.sleep(1)\n",
    "            n += 1\n",
    "            print('try the', n, 'time')\n",
    "    print('tried 100 times, no good')\n",
    "    return None\n",
    "\n"
   ]
  },
  {
   "cell_type": "code",
   "execution_count": null,
   "metadata": {},
   "outputs": [],
   "source": [
    "ls_nt_taxaRare = open('/mnt/d/linux/W/NCBI/nt20180810/nt.taxaRare').read().split()\n",
    "ls_nt_taxaResult = []\n",
    "for _i in range(0,len(ls_nt_taxaRare),300):\n",
    "    print(_i,end=' ')\n",
    "    ls_nt_taxaResult += accNCBIgetTax(ls_nt_taxaRare[_i:_i+300])\n",
    "ls_nt_taxaResult_keep = [e for e in ls_nt_taxaResult if e[1]!='0']\n",
    "fout = open('/mnt/d/linux/W/NCBI/nt20180810/nt.taxaRare.taxa','w')\n",
    "for _e in ls_nt_taxaResult_keep:\n",
    "    fout.write('\\t'.join(_e)+'\\n')\n",
    "fout.close()"
   ]
  },
  {
   "cell_type": "markdown",
   "metadata": {},
   "source": [
    "combine the taxa file"
   ]
  },
  {
   "cell_type": "code",
   "execution_count": null,
   "metadata": {},
   "outputs": [],
   "source": [
    "os.system('cp /mnt/d/linux/W/NCBI/nt20180810/nt.taxa /mnt/d/linux/W/NCBI/nt20180810/nt.taxa.db')\n",
    "os.system('cat /mnt/d/linux/W/NCBI/nt20180810/nt.taxaRare.taxa >>/mnt/d/linux/W/NCBI/nt20180810/nt.taxa')"
   ]
  },
  {
   "cell_type": "markdown",
   "metadata": {},
   "source": [
    "### some taxids of nt accesion numbers are not in use any more. Change them"
   ]
  },
  {
   "cell_type": "code",
   "execution_count": null,
   "metadata": {},
   "outputs": [],
   "source": [
    "dc_acc2taxid = {e.split()[0]:e.split()[1] for e in open(\"/mnt/d/linux/W/NCBI/nt20180810/nt.taxa\")}\n",
    "\n",
    "st_taxid_not_exist = set([e for e in dc_acc2taxid.values() if e not in dc_nt_taxid2group])\n",
    "html = urlopen('https://eutils.ncbi.nlm.nih.gov/entrez/eutils/esummary.fcgi?db=taxonomy&id='+','.join(st_taxid_not_exist))\n",
    "txt = html.read().decode()\n",
    "txts = txt.split('</DocSum>')\n",
    "dc_taxid_correct = {}\n",
    "for _n in range(len(txts)-1):\n",
    "    _m = re.search('<Item Name=\"TaxId\" Type=\"Integer\">(\\d*)</Item>',txts[_n])\n",
    "    _mn = re.search('Item Name=\"AkaTaxId\" Type=\"Integer\">(\\d*)</Item>',txts[_n])\n",
    "    if _m and _mn:\n",
    "        _k = _m.group(1)\n",
    "        _v = _mn.group(1)\n",
    "        if _v != '0':## new taxid is not available\n",
    "            dc_taxid_correct[_k]=_v\n",
    "fout = open('/mnt/d/linux/W/NCBI/taxonamy20180810/speciesChangedID','w')\n",
    "for _k,_v in dc_taxid_correct.items():\n",
    "    fout.write(_k+'\\t'+_v+'\\n')\n",
    "fout.close()\n",
    "\n",
    "n = 0\n",
    "for _k,_v in dc_acc2taxid.items():\n",
    "    if _v in dc_taxid_correct:\n",
    "        dc_acc2taxid[_k] = dc_taxid_correct[_v]\n",
    "        n +=1\n",
    "print(n,'sequences with taxID corrected')\n",
    "fout= open('/mnt/d/linux/W/NCBI/nt20180810/nt.taxa.corrected','w')\n",
    "for _k,_v in dc_acc2taxid.items():\n",
    "    fout.write(_k+'\\t'+_v+'\\n')\n",
    "fout.close()"
   ]
  },
  {
   "cell_type": "markdown",
   "metadata": {},
   "source": [
    "### 8 kingdoms/subkingdoms, split nt sequences to 8 groups based on kingdom.\n",
    "{\"2\",\"2157\",\"12884\",\"10239\",\"4751\",\"33090\",\"33208\"}  \n",
    "kingdom:\n",
    "* Life\n",
    "    * Archae 2157\n",
    "    * Bacteria 2\n",
    "    * Viroids 12884\n",
    "    * Viruses 10239\n",
    "    * Eukaryota 2759\n",
    "        * Fungi 4751\n",
    "        * viridiplantae 33090\n",
    "        * metazoa 33208"
   ]
  },
  {
   "cell_type": "markdown",
   "metadata": {},
   "source": [
    "accession to groups"
   ]
  },
  {
   "cell_type": "code",
   "execution_count": null,
   "metadata": {},
   "outputs": [],
   "source": [
    "dc_nt_groups ={\"2\":\"Bacteria\", \"2157\":\"Archae\", \"12884\":\"Viroids\", \"10239\":\"Viruses\", \\\n",
    "               \"4751\":\"Fungi\", \"33090\":\"viridiplantae\" ,\"33208\":\"metazoa\", \"\":\"Other\"}\n",
    "dc_nt_group_taxids = {e:[] for e in dc_nt_groups}\n",
    "file_tax_speciesLineage = '/mnt/d/linux/W/NCBI/taxonamy20180810/speciesLineage'\n",
    "for _l in open(file_tax_speciesLineage):\n",
    "    _es = _l.split()\n",
    "    _found = False\n",
    "    for _e in _es:\n",
    "        if _e in dc_nt_group_taxids:\n",
    "            dc_nt_group_taxids[_e].append(_es[0])\n",
    "            _found = True\n",
    "            break\n",
    "    if not _found:\n",
    "        dc_nt_group_taxids[\"\"].append(_es[0])\n",
    "\n",
    "dc_nt_taxid2group = {} ## taxid to group, dictionary\n",
    "for _k,_v in dc_nt_group_taxids.items():\n",
    "    for _id in _v:\n",
    "        dc_nt_taxid2group[_id] = _k"
   ]
  },
  {
   "cell_type": "markdown",
   "metadata": {},
   "source": [
    "split the nt file"
   ]
  },
  {
   "cell_type": "code",
   "execution_count": null,
   "metadata": {},
   "outputs": [],
   "source": [
    "dc_nt_groups_write = {k:open('/mnt/d/linux/W/NCBI/nt20180810/nt_'+v,'w') for k,v in dc_nt_groups.items()}\n",
    "\n",
    "for _seq in SeqIO.parse(open('/mnt/d/linux/W/NCBI/nt20180810/nt'),'fasta'):\n",
    "    _acc = _seq.id.split('.')[0]\n",
    "    if _acc in dc_acc2taxid:\n",
    "        _taxid = dc_acc2taxid[_acc]\n",
    "        if _taxid in dc_nt_taxid2group:\n",
    "            _kingdom = dc_nt_taxid2group[_taxid]\n",
    "            _fout = dc_nt_groups_write[_kingdom]\n",
    "            _fout.write('>'+_seq.description+'\\n'+str(_seq.seq)+'\\n')\n",
    "        else:\n",
    "            print(_taxid, \"not in groups\")\n",
    "            dc_nt_groups_write[''].write('>'+_seq.description+'\\n'+str(_seq.seq)+'\\n')\n",
    "    else:\n",
    "        dc_nt_groups_write[''].write('>'+_seq.description+'\\n'+str(_seq.seq)+'\\n')\n",
    "\n",
    "[e.close() for e in dc_nt_groups_write.values()]"
   ]
  },
  {
   "cell_type": "markdown",
   "metadata": {},
   "source": [
    "### create nt_micro\n",
    "by removing metazoa and viridiplantae"
   ]
  },
  {
   "cell_type": "code",
   "execution_count": 35,
   "metadata": {},
   "outputs": [
    {
     "data": {
      "text/plain": [
       "0"
      ]
     },
     "execution_count": 35,
     "metadata": {},
     "output_type": "execute_result"
    }
   ],
   "source": [
    "os.system(\"cat /mnt/d/linux/W/NCBI/nt20180810/nt_Archae >>/mnt/d/linux/W/NCBI/nt20180810/nt_micro\")\n",
    "os.system(\"cat /mnt/d/linux/W/NCBI/nt20180810/nt_Bacteria >>/mnt/d/linux/W/NCBI/nt20180810/nt_micro\")\n",
    "os.system(\"cat /mnt/d/linux/W/NCBI/nt20180810/nt_Fungi >>/mnt/d/linux/W/NCBI/nt20180810/nt_micro\")\n",
    "os.system(\"cat /mnt/d/linux/W/NCBI/nt20180810/nt_Other >>/mnt/d/linux/W/NCBI/nt20180810/nt_micro\")\n",
    "os.system(\"cat /mnt/d/linux/W/NCBI/nt20180810/nt_Viroids >>/mnt/d/linux/W/NCBI/nt20180810/nt_micro\")\n",
    "os.system(\"cat /mnt/d/linux/W/NCBI/nt20180810/nt_Viruses >>/mnt/d/linux/W/NCBI/nt20180810/nt_micro\")"
   ]
  },
  {
   "cell_type": "markdown",
   "metadata": {},
   "source": [
    "build database for nt_micro"
   ]
  },
  {
   "cell_type": "markdown",
   "metadata": {},
   "source": [
    "run with linux\n",
    "```\n",
    "cd /mnt/d/linux/W/NCBI/nt20180810\n",
    "/home/p/blast/bin/dustmasker -in nt_micro -infmt fasta -parse_seqids -outfmt maskinfo_asn1_bin -out nt_micro.asnb\n",
    "\n",
    "/home/p/blast/bin/makeblastdb -in nt_micro -input_type fasta -dbtype nucl -mask_data nt_micro.asnb -out nt_micro -title \"nt_micro\" -parse_seqids -taxid_map nt.taxa.corrected\n",
    "```"
   ]
  },
  {
   "cell_type": "markdown",
   "metadata": {},
   "source": [
    "## MoonBio Human Bacteria"
   ]
  },
  {
   "cell_type": "markdown",
   "metadata": {},
   "source": [
    "### Check if all taxids are \"species\" name\n",
    "Totally 2690 species"
   ]
  },
  {
   "cell_type": "code",
   "execution_count": 78,
   "metadata": {},
   "outputs": [
    {
     "name": "stdout",
     "output_type": "stream",
     "text": [
      "2687 2687\n"
     ]
    }
   ],
   "source": [
    "file = \"/mnt/d/linux/W/NCBI/MoonRef20180810/Human_bacterial_species_2018.txt\"\n",
    "df_species = pd.read_csv(file, sep='\\t',dtype=str, index_col=0)\n",
    "taxids = list(df_species.taxid)\n",
    "taxids_s = set(taxids)\n",
    "print(len(taxids),len(taxids_s))"
   ]
  },
  {
   "cell_type": "code",
   "execution_count": 79,
   "metadata": {},
   "outputs": [
    {
     "data": {
      "text/html": [
       "<div>\n",
       "<style scoped>\n",
       "    .dataframe tbody tr th:only-of-type {\n",
       "        vertical-align: middle;\n",
       "    }\n",
       "\n",
       "    .dataframe tbody tr th {\n",
       "        vertical-align: top;\n",
       "    }\n",
       "\n",
       "    .dataframe thead th {\n",
       "        text-align: right;\n",
       "    }\n",
       "</style>\n",
       "<table border=\"1\" class=\"dataframe\">\n",
       "  <thead>\n",
       "    <tr style=\"text-align: right;\">\n",
       "      <th></th>\n",
       "      <th>Name_ori</th>\n",
       "      <th>taxid</th>\n",
       "      <th>sci_name</th>\n",
       "      <th>name_use</th>\n",
       "    </tr>\n",
       "  </thead>\n",
       "  <tbody>\n",
       "    <tr>\n",
       "      <th>1</th>\n",
       "      <td>Abiotrophia defectiva</td>\n",
       "      <td>46125</td>\n",
       "      <td>Abiotrophia defectiva</td>\n",
       "      <td>Abiotrophia defectiva</td>\n",
       "    </tr>\n",
       "    <tr>\n",
       "      <th>2</th>\n",
       "      <td>Abiotrophia para-adiacens</td>\n",
       "      <td>191553</td>\n",
       "      <td>Abiotrophia para-adiacens</td>\n",
       "      <td>Abiotrophia para-adiacens</td>\n",
       "    </tr>\n",
       "    <tr>\n",
       "      <th>3</th>\n",
       "      <td>Acetobacter cibinongensis</td>\n",
       "      <td>146475</td>\n",
       "      <td>Acetobacter cibinongensis</td>\n",
       "      <td>Acetobacter cibinongensis</td>\n",
       "    </tr>\n",
       "    <tr>\n",
       "      <th>4</th>\n",
       "      <td>Acetobacter indonesiensis</td>\n",
       "      <td>104101</td>\n",
       "      <td>Acetobacter indonesiensis</td>\n",
       "      <td>Acetobacter indonesiensis</td>\n",
       "    </tr>\n",
       "    <tr>\n",
       "      <th>5</th>\n",
       "      <td>Acetobacter pasteurianus</td>\n",
       "      <td>438</td>\n",
       "      <td>Acetobacter pasteurianus</td>\n",
       "      <td>Acetobacter pasteurianus</td>\n",
       "    </tr>\n",
       "  </tbody>\n",
       "</table>\n",
       "</div>"
      ],
      "text/plain": [
       "                    Name_ori   taxid                   sci_name  \\\n",
       "1      Abiotrophia defectiva   46125      Abiotrophia defectiva   \n",
       "2  Abiotrophia para-adiacens  191553  Abiotrophia para-adiacens   \n",
       "3  Acetobacter cibinongensis  146475  Acetobacter cibinongensis   \n",
       "4  Acetobacter indonesiensis  104101  Acetobacter indonesiensis   \n",
       "5   Acetobacter pasteurianus     438   Acetobacter pasteurianus   \n",
       "\n",
       "                    name_use  \n",
       "1      Abiotrophia defectiva  \n",
       "2  Abiotrophia para-adiacens  \n",
       "3  Acetobacter cibinongensis  \n",
       "4  Acetobacter indonesiensis  \n",
       "5   Acetobacter pasteurianus  "
      ]
     },
     "execution_count": 79,
     "metadata": {},
     "output_type": "execute_result"
    }
   ],
   "source": [
    "df_species.head()"
   ]
  },
  {
   "cell_type": "code",
   "execution_count": 80,
   "metadata": {},
   "outputs": [
    {
     "name": "stdout",
     "output_type": "stream",
     "text": [
      "(1832355, 3)\n"
     ]
    }
   ],
   "source": [
    "file_tax_nodesLink = \"/mnt/d/linux/W/NCBI/taxonamy20180810/nodesLink\"\n",
    "df_node = pd.read_csv(file_tax_nodesLink, sep = \"\\t\",dtype = str)\n",
    "print(df_node.shape)\n",
    "dc_rank = dict(zip(list(df_node.loc[:,\"From\"]), list(df_node.loc[:,\"rank\"])))"
   ]
  },
  {
   "cell_type": "code",
   "execution_count": 81,
   "metadata": {},
   "outputs": [],
   "source": [
    "dc_human_bac = {e:dc_rank[e] for e in taxids}"
   ]
  },
  {
   "cell_type": "code",
   "execution_count": 82,
   "metadata": {},
   "outputs": [
    {
     "data": {
      "text/plain": [
       "Counter({'species': 2661, 'subspecies': 22, 'no rank': 4})"
      ]
     },
     "execution_count": 82,
     "metadata": {},
     "output_type": "execute_result"
    }
   ],
   "source": [
    "Counter(dc_human_bac.values())"
   ]
  },
  {
   "cell_type": "code",
   "execution_count": 83,
   "metadata": {},
   "outputs": [
    {
     "name": "stdout",
     "output_type": "stream",
     "text": [
      "no rank taxids: 149539 54388 90370 90371\n"
     ]
    }
   ],
   "source": [
    "print('no rank taxids:',' '.join([k for k,v in dc_human_bac.items() if v=='no rank']))"
   ]
  },
  {
   "cell_type": "code",
   "execution_count": 84,
   "metadata": {},
   "outputs": [
    {
     "name": "stdout",
     "output_type": "stream",
     "text": [
      "subspecies taxids: 1690 1682 302911 264 1463164 574 39831 1585 29397 33965 319705 1962118 1770 1203599 45261 59203 1077965 1359 1458253 1077464 168 85581\n"
     ]
    }
   ],
   "source": [
    "print('subspecies taxids:',' '.join([k for k,v in dc_human_bac.items() if v=='subspecies']))"
   ]
  },
  {
   "cell_type": "markdown",
   "metadata": {},
   "source": [
    "### HumanRef table\n",
    "Generate a table of taxid to name.  \n",
    "For all HumanRef taxids, their children all match to the new name.\n",
    "For example, taxid 28901 contains 2981 subspecies or strands, match all those ids to taxid 28901. Except for taxid 149539, a id in the HumanRef table, all taxids under 149539 will have the name of 149539.\n"
   ]
  },
  {
   "cell_type": "code",
   "execution_count": 85,
   "metadata": {},
   "outputs": [],
   "source": [
    "dc_node = dict(zip(list(df_node.loc[:,\"From\"]), list(df_node.loc[:,\"To\"])))"
   ]
  },
  {
   "cell_type": "code",
   "execution_count": 86,
   "metadata": {},
   "outputs": [],
   "source": [
    "file_tax_lineage = '/mnt/d/linux/W/NCBI/taxonamy20180810/speciesLineage'\n",
    "dc_human_tax_children = {e:set() for e in taxids_s}\n",
    "for _l in open(file_tax_lineage):\n",
    "    _es = _l.split()\n",
    "    for _n,_e in enumerate(_es):\n",
    "        if _e in dc_human_tax_children:\n",
    "            dc_human_tax_children[_e].update(_es[:_n+1])"
   ]
  },
  {
   "cell_type": "code",
   "execution_count": 87,
   "metadata": {},
   "outputs": [
    {
     "name": "stdout",
     "output_type": "stream",
     "text": [
      "taxid 149539 have 568 and taxid 28901 have 2990\n"
     ]
    }
   ],
   "source": [
    "print('taxid 149539 have',len(dc_human_tax_children['149539']),'and taxid 28901 have', len(dc_human_tax_children['28901']))"
   ]
  },
  {
   "cell_type": "markdown",
   "metadata": {},
   "source": [
    "generate a list with `taxid_humanRef, taxid_children, number_of_children`, then keep unique `taxid_children`, keep the one with a smaller `number_of_children`"
   ]
  },
  {
   "cell_type": "code",
   "execution_count": 88,
   "metadata": {},
   "outputs": [],
   "source": [
    "ls_taxid_humanRef = []\n",
    "for _k,_v in dc_human_tax_children.items():\n",
    "    _l = len(_v)\n",
    "    for _c in _v:\n",
    "        ls_taxid_humanRef.append([_k,_c,_l])"
   ]
  },
  {
   "cell_type": "code",
   "execution_count": 89,
   "metadata": {},
   "outputs": [
    {
     "data": {
      "text/plain": [
       "[['985002', '985002', 3],\n",
       " ['985002', '1418388', 3],\n",
       " ['985002', '1418406', 3],\n",
       " ['59892', '59892', 1],\n",
       " ['257274', '1210096', 2],\n",
       " ['257274', '257274', 2]]"
      ]
     },
     "execution_count": 89,
     "metadata": {},
     "output_type": "execute_result"
    }
   ],
   "source": [
    "ls_taxid_humanRef[:6]"
   ]
  },
  {
   "cell_type": "code",
   "execution_count": 90,
   "metadata": {},
   "outputs": [],
   "source": [
    "df_taxid_humanRef = pd.DataFrame(ls_taxid_humanRef)"
   ]
  },
  {
   "cell_type": "code",
   "execution_count": 91,
   "metadata": {},
   "outputs": [
    {
     "data": {
      "text/html": [
       "<div>\n",
       "<style scoped>\n",
       "    .dataframe tbody tr th:only-of-type {\n",
       "        vertical-align: middle;\n",
       "    }\n",
       "\n",
       "    .dataframe tbody tr th {\n",
       "        vertical-align: top;\n",
       "    }\n",
       "\n",
       "    .dataframe thead th {\n",
       "        text-align: right;\n",
       "    }\n",
       "</style>\n",
       "<table border=\"1\" class=\"dataframe\">\n",
       "  <thead>\n",
       "    <tr style=\"text-align: right;\">\n",
       "      <th></th>\n",
       "      <th>0</th>\n",
       "      <th>1</th>\n",
       "      <th>2</th>\n",
       "    </tr>\n",
       "  </thead>\n",
       "  <tbody>\n",
       "    <tr>\n",
       "      <th>0</th>\n",
       "      <td>985002</td>\n",
       "      <td>985002</td>\n",
       "      <td>3</td>\n",
       "    </tr>\n",
       "    <tr>\n",
       "      <th>1</th>\n",
       "      <td>985002</td>\n",
       "      <td>1418388</td>\n",
       "      <td>3</td>\n",
       "    </tr>\n",
       "    <tr>\n",
       "      <th>2</th>\n",
       "      <td>985002</td>\n",
       "      <td>1418406</td>\n",
       "      <td>3</td>\n",
       "    </tr>\n",
       "    <tr>\n",
       "      <th>3</th>\n",
       "      <td>59892</td>\n",
       "      <td>59892</td>\n",
       "      <td>1</td>\n",
       "    </tr>\n",
       "    <tr>\n",
       "      <th>4</th>\n",
       "      <td>257274</td>\n",
       "      <td>1210096</td>\n",
       "      <td>2</td>\n",
       "    </tr>\n",
       "  </tbody>\n",
       "</table>\n",
       "</div>"
      ],
      "text/plain": [
       "        0        1  2\n",
       "0  985002   985002  3\n",
       "1  985002  1418388  3\n",
       "2  985002  1418406  3\n",
       "3   59892    59892  1\n",
       "4  257274  1210096  2"
      ]
     },
     "execution_count": 91,
     "metadata": {},
     "output_type": "execute_result"
    }
   ],
   "source": [
    "df_taxid_humanRef.head()"
   ]
  },
  {
   "cell_type": "code",
   "execution_count": 92,
   "metadata": {},
   "outputs": [
    {
     "data": {
      "text/html": [
       "<div>\n",
       "<style scoped>\n",
       "    .dataframe tbody tr th:only-of-type {\n",
       "        vertical-align: middle;\n",
       "    }\n",
       "\n",
       "    .dataframe tbody tr th {\n",
       "        vertical-align: top;\n",
       "    }\n",
       "\n",
       "    .dataframe thead th {\n",
       "        text-align: right;\n",
       "    }\n",
       "</style>\n",
       "<table border=\"1\" class=\"dataframe\">\n",
       "  <thead>\n",
       "    <tr style=\"text-align: right;\">\n",
       "      <th></th>\n",
       "      <th>0</th>\n",
       "      <th>1</th>\n",
       "      <th>2</th>\n",
       "    </tr>\n",
       "  </thead>\n",
       "  <tbody>\n",
       "    <tr>\n",
       "      <th>2272</th>\n",
       "      <td>100053</td>\n",
       "      <td>100053</td>\n",
       "      <td>9</td>\n",
       "    </tr>\n",
       "    <tr>\n",
       "      <th>16428</th>\n",
       "      <td>562</td>\n",
       "      <td>1000560</td>\n",
       "      <td>3286</td>\n",
       "    </tr>\n",
       "    <tr>\n",
       "      <th>29412</th>\n",
       "      <td>287</td>\n",
       "      <td>1000561</td>\n",
       "      <td>382</td>\n",
       "    </tr>\n",
       "    <tr>\n",
       "      <th>32396</th>\n",
       "      <td>216816</td>\n",
       "      <td>1000567</td>\n",
       "      <td>38</td>\n",
       "    </tr>\n",
       "    <tr>\n",
       "      <th>148</th>\n",
       "      <td>1328</td>\n",
       "      <td>1000570</td>\n",
       "      <td>15</td>\n",
       "    </tr>\n",
       "  </tbody>\n",
       "</table>\n",
       "</div>"
      ],
      "text/plain": [
       "            0        1     2\n",
       "2272   100053   100053     9\n",
       "16428     562  1000560  3286\n",
       "29412     287  1000561   382\n",
       "32396  216816  1000567    38\n",
       "148      1328  1000570    15"
      ]
     },
     "execution_count": 92,
     "metadata": {},
     "output_type": "execute_result"
    }
   ],
   "source": [
    "df_taxid_humanRef_sorted = df_taxid_humanRef.sort_values(by=[1,2])\n",
    "df_taxid_humanRef_sorted.head()"
   ]
  },
  {
   "cell_type": "code",
   "execution_count": 93,
   "metadata": {},
   "outputs": [
    {
     "data": {
      "text/html": [
       "<div>\n",
       "<style scoped>\n",
       "    .dataframe tbody tr th:only-of-type {\n",
       "        vertical-align: middle;\n",
       "    }\n",
       "\n",
       "    .dataframe tbody tr th {\n",
       "        vertical-align: top;\n",
       "    }\n",
       "\n",
       "    .dataframe thead th {\n",
       "        text-align: right;\n",
       "    }\n",
       "</style>\n",
       "<table border=\"1\" class=\"dataframe\">\n",
       "  <thead>\n",
       "    <tr style=\"text-align: right;\">\n",
       "      <th></th>\n",
       "      <th>0</th>\n",
       "      <th>1</th>\n",
       "      <th>2</th>\n",
       "    </tr>\n",
       "  </thead>\n",
       "  <tbody>\n",
       "    <tr>\n",
       "      <th>12490</th>\n",
       "      <td>149539</td>\n",
       "      <td>149539</td>\n",
       "      <td>568</td>\n",
       "    </tr>\n",
       "    <tr>\n",
       "      <th>23699</th>\n",
       "      <td>28901</td>\n",
       "      <td>149539</td>\n",
       "      <td>2990</td>\n",
       "    </tr>\n",
       "  </tbody>\n",
       "</table>\n",
       "</div>"
      ],
      "text/plain": [
       "            0       1     2\n",
       "12490  149539  149539   568\n",
       "23699   28901  149539  2990"
      ]
     },
     "execution_count": 93,
     "metadata": {},
     "output_type": "execute_result"
    }
   ],
   "source": [
    "df_taxid_humanRef_sorted[df_taxid_humanRef_sorted[1]=='149539']"
   ]
  },
  {
   "cell_type": "code",
   "execution_count": 94,
   "metadata": {},
   "outputs": [
    {
     "name": "stdout",
     "output_type": "stream",
     "text": [
      "(32755, 3) (31770, 3)\n"
     ]
    },
    {
     "data": {
      "text/html": [
       "<div>\n",
       "<style scoped>\n",
       "    .dataframe tbody tr th:only-of-type {\n",
       "        vertical-align: middle;\n",
       "    }\n",
       "\n",
       "    .dataframe tbody tr th {\n",
       "        vertical-align: top;\n",
       "    }\n",
       "\n",
       "    .dataframe thead th {\n",
       "        text-align: right;\n",
       "    }\n",
       "</style>\n",
       "<table border=\"1\" class=\"dataframe\">\n",
       "  <thead>\n",
       "    <tr style=\"text-align: right;\">\n",
       "      <th></th>\n",
       "      <th>0</th>\n",
       "      <th>1</th>\n",
       "      <th>2</th>\n",
       "    </tr>\n",
       "  </thead>\n",
       "  <tbody>\n",
       "    <tr>\n",
       "      <th>12490</th>\n",
       "      <td>149539</td>\n",
       "      <td>149539</td>\n",
       "      <td>568</td>\n",
       "    </tr>\n",
       "  </tbody>\n",
       "</table>\n",
       "</div>"
      ],
      "text/plain": [
       "            0       1    2\n",
       "12490  149539  149539  568"
      ]
     },
     "execution_count": 94,
     "metadata": {},
     "output_type": "execute_result"
    }
   ],
   "source": [
    "df_taxid_humanRef_sorted_filter = df_taxid_humanRef_sorted.drop_duplicates(subset=[1],keep='first')\n",
    "print(df_taxid_humanRef_sorted.shape, df_taxid_humanRef_sorted_filter.shape)\n",
    "df_taxid_humanRef_sorted_filter[df_taxid_humanRef_sorted_filter[1]=='149539']"
   ]
  },
  {
   "cell_type": "code",
   "execution_count": 95,
   "metadata": {},
   "outputs": [
    {
     "data": {
      "text/html": [
       "<div>\n",
       "<style scoped>\n",
       "    .dataframe tbody tr th:only-of-type {\n",
       "        vertical-align: middle;\n",
       "    }\n",
       "\n",
       "    .dataframe tbody tr th {\n",
       "        vertical-align: top;\n",
       "    }\n",
       "\n",
       "    .dataframe thead th {\n",
       "        text-align: right;\n",
       "    }\n",
       "</style>\n",
       "<table border=\"1\" class=\"dataframe\">\n",
       "  <thead>\n",
       "    <tr style=\"text-align: right;\">\n",
       "      <th></th>\n",
       "      <th>tax_id</th>\n",
       "      <th>species_id</th>\n",
       "    </tr>\n",
       "  </thead>\n",
       "  <tbody>\n",
       "    <tr>\n",
       "      <th>2272</th>\n",
       "      <td>100053</td>\n",
       "      <td>100053</td>\n",
       "    </tr>\n",
       "    <tr>\n",
       "      <th>16428</th>\n",
       "      <td>1000560</td>\n",
       "      <td>562</td>\n",
       "    </tr>\n",
       "    <tr>\n",
       "      <th>29412</th>\n",
       "      <td>1000561</td>\n",
       "      <td>287</td>\n",
       "    </tr>\n",
       "    <tr>\n",
       "      <th>32396</th>\n",
       "      <td>1000567</td>\n",
       "      <td>216816</td>\n",
       "    </tr>\n",
       "    <tr>\n",
       "      <th>148</th>\n",
       "      <td>1000570</td>\n",
       "      <td>1328</td>\n",
       "    </tr>\n",
       "  </tbody>\n",
       "</table>\n",
       "</div>"
      ],
      "text/plain": [
       "        tax_id species_id\n",
       "2272    100053     100053\n",
       "16428  1000560        562\n",
       "29412  1000561        287\n",
       "32396  1000567     216816\n",
       "148    1000570       1328"
      ]
     },
     "execution_count": 95,
     "metadata": {},
     "output_type": "execute_result"
    }
   ],
   "source": [
    "df_taxid_humanRef_lineage = df_taxid_humanRef_sorted_filter.loc[:,[1,0]].copy()\n",
    "df_taxid_humanRef_lineage.columns = ['tax_id','species_id']\n",
    "df_taxid_humanRef_lineage.head()"
   ]
  },
  {
   "cell_type": "markdown",
   "metadata": {},
   "source": [
    "HumanRef.speciesLineageName"
   ]
  },
  {
   "cell_type": "code",
   "execution_count": 96,
   "metadata": {},
   "outputs": [
    {
     "data": {
      "text/html": [
       "<div>\n",
       "<style scoped>\n",
       "    .dataframe tbody tr th:only-of-type {\n",
       "        vertical-align: middle;\n",
       "    }\n",
       "\n",
       "    .dataframe tbody tr th {\n",
       "        vertical-align: top;\n",
       "    }\n",
       "\n",
       "    .dataframe thead th {\n",
       "        text-align: right;\n",
       "    }\n",
       "</style>\n",
       "<table border=\"1\" class=\"dataframe\">\n",
       "  <thead>\n",
       "    <tr style=\"text-align: right;\">\n",
       "      <th></th>\n",
       "      <th>species_id</th>\n",
       "      <th>name</th>\n",
       "      <th>species</th>\n",
       "      <th>genus</th>\n",
       "      <th>family</th>\n",
       "      <th>order</th>\n",
       "      <th>class</th>\n",
       "      <th>phylum</th>\n",
       "      <th>kingdom</th>\n",
       "    </tr>\n",
       "    <tr>\n",
       "      <th>tax_id</th>\n",
       "      <th></th>\n",
       "      <th></th>\n",
       "      <th></th>\n",
       "      <th></th>\n",
       "      <th></th>\n",
       "      <th></th>\n",
       "      <th></th>\n",
       "      <th></th>\n",
       "      <th></th>\n",
       "    </tr>\n",
       "  </thead>\n",
       "  <tbody>\n",
       "    <tr>\n",
       "      <th>7</th>\n",
       "      <td>7</td>\n",
       "      <td>Azorhizobium caulinodans</td>\n",
       "      <td>Azorhizobium caulinodans</td>\n",
       "      <td>Azorhizobium</td>\n",
       "      <td>Xanthobacteraceae</td>\n",
       "      <td>Rhizobiales</td>\n",
       "      <td>Alphaproteobacteria</td>\n",
       "      <td>Proteobacteria</td>\n",
       "      <td>Bacteria</td>\n",
       "    </tr>\n",
       "    <tr>\n",
       "      <th>9</th>\n",
       "      <td>9</td>\n",
       "      <td>Buchnera aphidicola</td>\n",
       "      <td>Buchnera aphidicola</td>\n",
       "      <td>Buchnera</td>\n",
       "      <td>Erwiniaceae</td>\n",
       "      <td>Enterobacterales</td>\n",
       "      <td>Gammaproteobacteria</td>\n",
       "      <td>Proteobacteria</td>\n",
       "      <td>Bacteria</td>\n",
       "    </tr>\n",
       "    <tr>\n",
       "      <th>11</th>\n",
       "      <td>11</td>\n",
       "      <td>Cellulomonas gilvus</td>\n",
       "      <td>Cellulomonas gilvus</td>\n",
       "      <td>Cellulomonas</td>\n",
       "      <td>Cellulomonadaceae</td>\n",
       "      <td>Micrococcales</td>\n",
       "      <td>Actinobacteria</td>\n",
       "      <td>Actinobacteria</td>\n",
       "      <td>Bacteria</td>\n",
       "    </tr>\n",
       "    <tr>\n",
       "      <th>14</th>\n",
       "      <td>14</td>\n",
       "      <td>Dictyoglomus thermophilum</td>\n",
       "      <td>Dictyoglomus thermophilum</td>\n",
       "      <td>Dictyoglomus</td>\n",
       "      <td>Dictyoglomaceae</td>\n",
       "      <td>Dictyoglomales</td>\n",
       "      <td>Dictyoglomia</td>\n",
       "      <td>Dictyoglomi</td>\n",
       "      <td>Bacteria</td>\n",
       "    </tr>\n",
       "    <tr>\n",
       "      <th>17</th>\n",
       "      <td>17</td>\n",
       "      <td>Methylophilus methylotrophus</td>\n",
       "      <td>Methylophilus methylotrophus</td>\n",
       "      <td>Methylophilus</td>\n",
       "      <td>Methylophilaceae</td>\n",
       "      <td>Nitrosomonadales</td>\n",
       "      <td>Betaproteobacteria</td>\n",
       "      <td>Proteobacteria</td>\n",
       "      <td>Bacteria</td>\n",
       "    </tr>\n",
       "  </tbody>\n",
       "</table>\n",
       "</div>"
      ],
      "text/plain": [
       "       species_id                          name                       species  \\\n",
       "tax_id                                                                          \n",
       "7               7      Azorhizobium caulinodans      Azorhizobium caulinodans   \n",
       "9               9           Buchnera aphidicola           Buchnera aphidicola   \n",
       "11             11           Cellulomonas gilvus           Cellulomonas gilvus   \n",
       "14             14     Dictyoglomus thermophilum     Dictyoglomus thermophilum   \n",
       "17             17  Methylophilus methylotrophus  Methylophilus methylotrophus   \n",
       "\n",
       "                genus             family             order  \\\n",
       "tax_id                                                       \n",
       "7        Azorhizobium  Xanthobacteraceae       Rhizobiales   \n",
       "9            Buchnera        Erwiniaceae  Enterobacterales   \n",
       "11       Cellulomonas  Cellulomonadaceae     Micrococcales   \n",
       "14       Dictyoglomus    Dictyoglomaceae    Dictyoglomales   \n",
       "17      Methylophilus   Methylophilaceae  Nitrosomonadales   \n",
       "\n",
       "                      class          phylum   kingdom  \n",
       "tax_id                                                 \n",
       "7       Alphaproteobacteria  Proteobacteria  Bacteria  \n",
       "9       Gammaproteobacteria  Proteobacteria  Bacteria  \n",
       "11           Actinobacteria  Actinobacteria  Bacteria  \n",
       "14             Dictyoglomia     Dictyoglomi  Bacteria  \n",
       "17       Betaproteobacteria  Proteobacteria  Bacteria  "
      ]
     },
     "execution_count": 96,
     "metadata": {},
     "output_type": "execute_result"
    }
   ],
   "source": [
    "df_speciesLineageName = pd.read_csv('/mnt/d/linux/W/NCBI/taxonamy20180810/speciesLineageName',dtype=str, index_col=0,sep='\\t')\n",
    "df_speciesLineageName.head()"
   ]
  },
  {
   "cell_type": "code",
   "execution_count": 97,
   "metadata": {},
   "outputs": [],
   "source": [
    "df_speciesLineageName = df_speciesLineageName.drop(columns=['species_id'])"
   ]
  },
  {
   "cell_type": "code",
   "execution_count": 98,
   "metadata": {},
   "outputs": [],
   "source": [
    "df_speciesLineageName.index = [str(e) for e in df_speciesLineageName.index]"
   ]
  },
  {
   "cell_type": "code",
   "execution_count": 99,
   "metadata": {},
   "outputs": [],
   "source": [
    "df_taxid_humanRef_lineage_1 = df_taxid_humanRef_lineage.join(df_speciesLineageName,how='left',on='tax_id')"
   ]
  },
  {
   "cell_type": "code",
   "execution_count": 100,
   "metadata": {},
   "outputs": [
    {
     "data": {
      "text/html": [
       "<div>\n",
       "<style scoped>\n",
       "    .dataframe tbody tr th:only-of-type {\n",
       "        vertical-align: middle;\n",
       "    }\n",
       "\n",
       "    .dataframe tbody tr th {\n",
       "        vertical-align: top;\n",
       "    }\n",
       "\n",
       "    .dataframe thead th {\n",
       "        text-align: right;\n",
       "    }\n",
       "</style>\n",
       "<table border=\"1\" class=\"dataframe\">\n",
       "  <thead>\n",
       "    <tr style=\"text-align: right;\">\n",
       "      <th></th>\n",
       "      <th>tax_id</th>\n",
       "      <th>species_id</th>\n",
       "      <th>name</th>\n",
       "      <th>species</th>\n",
       "      <th>genus</th>\n",
       "      <th>family</th>\n",
       "      <th>order</th>\n",
       "      <th>class</th>\n",
       "      <th>phylum</th>\n",
       "      <th>kingdom</th>\n",
       "    </tr>\n",
       "  </thead>\n",
       "  <tbody>\n",
       "    <tr>\n",
       "      <th>2272</th>\n",
       "      <td>100053</td>\n",
       "      <td>100053</td>\n",
       "      <td>Leptospira alexanderi</td>\n",
       "      <td>Leptospira alexanderi</td>\n",
       "      <td>Leptospira</td>\n",
       "      <td>Leptospiraceae</td>\n",
       "      <td>NaN</td>\n",
       "      <td>Spirochaetia</td>\n",
       "      <td>Spirochaetes</td>\n",
       "      <td>Bacteria</td>\n",
       "    </tr>\n",
       "    <tr>\n",
       "      <th>16428</th>\n",
       "      <td>1000560</td>\n",
       "      <td>562</td>\n",
       "      <td>Escherichia coli VDP</td>\n",
       "      <td>Escherichia coli</td>\n",
       "      <td>Escherichia</td>\n",
       "      <td>Enterobacteriaceae</td>\n",
       "      <td>Enterobacterales</td>\n",
       "      <td>Gammaproteobacteria</td>\n",
       "      <td>Proteobacteria</td>\n",
       "      <td>Bacteria</td>\n",
       "    </tr>\n",
       "    <tr>\n",
       "      <th>29412</th>\n",
       "      <td>1000561</td>\n",
       "      <td>287</td>\n",
       "      <td>Pseudomonas aeruginosa AES-1R</td>\n",
       "      <td>Pseudomonas aeruginosa</td>\n",
       "      <td>Pseudomonas</td>\n",
       "      <td>Pseudomonadaceae</td>\n",
       "      <td>Pseudomonadales</td>\n",
       "      <td>Gammaproteobacteria</td>\n",
       "      <td>Proteobacteria</td>\n",
       "      <td>Bacteria</td>\n",
       "    </tr>\n",
       "    <tr>\n",
       "      <th>32396</th>\n",
       "      <td>1000567</td>\n",
       "      <td>216816</td>\n",
       "      <td>Bifidobacterium longum 3_1_37DFAAB</td>\n",
       "      <td>Bifidobacterium longum</td>\n",
       "      <td>Bifidobacterium</td>\n",
       "      <td>Bifidobacteriaceae</td>\n",
       "      <td>Bifidobacteriales</td>\n",
       "      <td>Actinobacteria</td>\n",
       "      <td>Actinobacteria</td>\n",
       "      <td>Bacteria</td>\n",
       "    </tr>\n",
       "    <tr>\n",
       "      <th>148</th>\n",
       "      <td>1000570</td>\n",
       "      <td>1328</td>\n",
       "      <td>Streptococcus anginosus SK52 = DSM 20563</td>\n",
       "      <td>Streptococcus anginosus</td>\n",
       "      <td>Streptococcus</td>\n",
       "      <td>Streptococcaceae</td>\n",
       "      <td>Lactobacillales</td>\n",
       "      <td>Bacilli</td>\n",
       "      <td>Firmicutes</td>\n",
       "      <td>Bacteria</td>\n",
       "    </tr>\n",
       "  </tbody>\n",
       "</table>\n",
       "</div>"
      ],
      "text/plain": [
       "        tax_id species_id                                      name  \\\n",
       "2272    100053     100053                     Leptospira alexanderi   \n",
       "16428  1000560        562                      Escherichia coli VDP   \n",
       "29412  1000561        287             Pseudomonas aeruginosa AES-1R   \n",
       "32396  1000567     216816        Bifidobacterium longum 3_1_37DFAAB   \n",
       "148    1000570       1328  Streptococcus anginosus SK52 = DSM 20563   \n",
       "\n",
       "                       species            genus              family  \\\n",
       "2272     Leptospira alexanderi       Leptospira      Leptospiraceae   \n",
       "16428         Escherichia coli      Escherichia  Enterobacteriaceae   \n",
       "29412   Pseudomonas aeruginosa      Pseudomonas    Pseudomonadaceae   \n",
       "32396   Bifidobacterium longum  Bifidobacterium  Bifidobacteriaceae   \n",
       "148    Streptococcus anginosus    Streptococcus    Streptococcaceae   \n",
       "\n",
       "                   order                class          phylum   kingdom  \n",
       "2272                 NaN         Spirochaetia    Spirochaetes  Bacteria  \n",
       "16428   Enterobacterales  Gammaproteobacteria  Proteobacteria  Bacteria  \n",
       "29412    Pseudomonadales  Gammaproteobacteria  Proteobacteria  Bacteria  \n",
       "32396  Bifidobacteriales       Actinobacteria  Actinobacteria  Bacteria  \n",
       "148      Lactobacillales              Bacilli      Firmicutes  Bacteria  "
      ]
     },
     "execution_count": 100,
     "metadata": {},
     "output_type": "execute_result"
    }
   ],
   "source": [
    "df_taxid_humanRef_lineage_1.head()"
   ]
  },
  {
   "cell_type": "markdown",
   "metadata": {},
   "source": [
    "change \"species\" to the name in HumanRef"
   ]
  },
  {
   "cell_type": "code",
   "execution_count": 101,
   "metadata": {},
   "outputs": [
    {
     "name": "stdout",
     "output_type": "stream",
     "text": [
      "2687\n"
     ]
    }
   ],
   "source": [
    "dc_speciesRefName = dict(zip(df_species['taxid'],df_species['name_use']))\n",
    "print(len(dc_speciesRefName))"
   ]
  },
  {
   "cell_type": "code",
   "execution_count": 102,
   "metadata": {},
   "outputs": [],
   "source": [
    "df_taxid_humanRef_lineage_1['species'] = df_taxid_humanRef_lineage_1['species_id'].apply(lambda x:dc_speciesRefName[x])"
   ]
  },
  {
   "cell_type": "code",
   "execution_count": 103,
   "metadata": {},
   "outputs": [],
   "source": [
    "df_taxid_humanRef_lineage_1.to_csv('/mnt/d/linux/W/NCBI/MoonRef20180810/HumanRef2018.speciesLineageName',sep='\\t',index=None)"
   ]
  }
 ],
 "metadata": {
  "kernelspec": {
   "display_name": "Python 3",
   "language": "python",
   "name": "python3"
  },
  "language_info": {
   "codemirror_mode": {
    "name": "ipython",
    "version": 3
   },
   "file_extension": ".py",
   "mimetype": "text/x-python",
   "name": "python",
   "nbconvert_exporter": "python",
   "pygments_lexer": "ipython3",
   "version": "3.6.4"
  },
  "latex_envs": {
   "LaTeX_envs_menu_present": true,
   "autoclose": false,
   "autocomplete": true,
   "bibliofile": "biblio.bib",
   "cite_by": "apalike",
   "current_citInitial": 1,
   "eqLabelWithNumbers": true,
   "eqNumInitial": 1,
   "hotkeys": {
    "equation": "Ctrl-E",
    "itemize": "Ctrl-I"
   },
   "labels_anchors": false,
   "latex_user_defs": false,
   "report_style_numbering": false,
   "user_envs_cfg": false
  },
  "toc": {
   "base_numbering": 1,
   "nav_menu": {},
   "number_sections": true,
   "sideBar": true,
   "skip_h1_title": true,
   "title_cell": "Table of Contents",
   "title_sidebar": "Contents",
   "toc_cell": false,
   "toc_position": {
    "height": "calc(100% - 180px)",
    "left": "10px",
    "top": "150px",
    "width": "360px"
   },
   "toc_section_display": true,
   "toc_window_display": true
  }
 },
 "nbformat": 4,
 "nbformat_minor": 2
}
