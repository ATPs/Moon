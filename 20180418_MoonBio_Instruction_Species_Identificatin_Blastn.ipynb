{
 "cells": [
  {
   "cell_type": "markdown",
   "metadata": {},
   "source": [
    "# Species Identification through Blastn search"
   ]
  },
  {
   "cell_type": "markdown",
   "metadata": {},
   "source": [
    "## Files needed for the Blastn search\n",
    "\n",
    "### Text files\n",
    "Sequences can be provided in different formats as shown below.\n",
    "\n",
    "#### Sequences downloaded from the website directly\n",
    "If you open the file, you will see\n",
    "```\n",
    "GCGCCCTCCCGAAGGTTAAGCTACCTACTTCTTTTGCAACCCA\n",
    "```\n",
    "or in same cases\n",
    "```\n",
    "\"Contig 1\" (1,1355)\n",
    "  Contig Length:                 1355 bases\n",
    "  Average Length/Sequence:        707 bases\n",
    "  Total Sequence Length:         1415 bases  Top Strand:                       1 sequences\n",
    "  Bottom Strand:                    1 sequences\n",
    "  Total:                            2 sequences\n",
    "FEATURES             Location/Qualifiers\n",
    "     contig          1..1347\n",
    "                     /Note=\"Contig 1(1>1355)\"\n",
    "                     /dnas_scaffold_ID=0\n",
    "                     /dnas_scaffold_POS=0\n",
    "     coverage_once   1..662\n",
    "                     /Note=\"Only_once\"\n",
    "     coverage_below  663..722\n",
    "                     /Note=\"Below threshold\"\n",
    "     coverage_once   723..1347\n",
    "                     /Note=\"Only_once\"\n",
    "\n",
    "^^\n",
    "GCAGTCGAGCGGGCCCTTCGGGGTCAGCGGCAGACGGGTGAGTAACACGTGGGAACGTACCCTTTGGTTCGGAATAACGCTGGGAAACTAGCGCTAATACCGGATACGCCCTTTTGGGGAAAGGCTTGCTGCCGAAGGATCGGCCCGCGTC\n",
    "```\n",
    "\n",
    "Note:  \n",
    "The name of the file will be used as the name of the sequence. Make sure that there are no sequences with the same names.  \n",
    "In most cases you will have many files with the DNA sequences in text format. Compress these files to a single file and send to Xiaolong Cao.\n"
   ]
  },
  {
   "cell_type": "markdown",
   "metadata": {},
   "source": [
    "#### Sequences in fasta format"
   ]
  },
  {
   "cell_type": "markdown",
   "metadata": {},
   "source": [
    "File with one sequence\n",
    "```\n",
    ">10-14\n",
    "GCAGTCGAACGATGAAACCGCCCTCGGGCGGACATGAAGTGGC\n",
    "```\n",
    "\n",
    "File with multiple sequences\n",
    "\n",
    "```\n",
    ">10-14\n",
    "GCAGTCGAACGATGAAACCGCCCTCGGGCGGACATGAAGTGGCG\n",
    ">10-15\n",
    "GGCCGATCCTTGCGGTTACGGACTTCAGGTACCCCCGGCTCCCA\n",
    "\n",
    "```\n",
    "\n",
    "Note:  \n",
    "`>10-14` is the header line. `10-14` is used as the name of sequence. Make sure that there are no sequences with the same name.  \n",
    "You may have many files with the DNA sequences in fasta format. Compress these files to a single file and send to Xiaolong Cao.  \n",
    "You may have one file with multiple DNA sequences. Send it to Xiaolong directly."
   ]
  },
  {
   "cell_type": "markdown",
   "metadata": {},
   "source": [
    "#### Sequences in fastq format\n",
    "This case is rare. The fastq format looks like\n",
    "```\n",
    "@SEQ_ID\n",
    "GATTTGGGGTTCAAAGCAGTATCGATCAAATAGTAAATCCATTTGTTCAACTCACAGTTT\n",
    "+\n",
    "!''*((((***+))%%%++)(%%%%).1***-+*''))**55CCF>>>>>>CCCCCCC65\n",
    "```\n",
    "Note:  \n",
    "There are four lines for each sequence in fastq format. `@SEQ_ID` is the name of the sequence; the second line is the sequence; the third line is `+` or `+SEQ_ID`; the forth line is the quality score for each base in the sequence.  \n",
    "Send fastq files the same as fasta files.  \n",
    "You may need to send a note saying that files are in fastq format."
   ]
  },
  {
   "cell_type": "markdown",
   "metadata": {},
   "source": [
    "### Binary files\n",
    "\n",
    "There is currently only one binary format for sequence files, which is the file ends with \".ab1\".   \n",
    "To view the extensions of iles, in windows 10, in the file explorer, click \"vew\", and check the box before \"file extensions\".  \n",
    "Compress multiple files to a single one and send it to Xiaolong Cao"
   ]
  },
  {
   "cell_type": "markdown",
   "metadata": {},
   "source": [
    "## Databases for Blastn search\n",
    "\n",
    "Typically, SILVA 16S or Ezbio are good choices for bacteria and ITS7.2 for fungi."
   ]
  },
  {
   "cell_type": "markdown",
   "metadata": {},
   "source": [
    "### SILVA 16S\n",
    "A comprehensive on-line resource for quality checked and aligned ribosomal RNA sequence data. Includes almost all known high-quality 16S rRNA sequences, which include more 16S sequences than in NCBI nt database.\n"
   ]
  },
  {
   "cell_type": "markdown",
   "metadata": {},
   "source": [
    "### SILVA 18S\n",
    "A comprehensive on-line resource for quality checked and aligned ribosomal RNA sequence data. Includes almost all known high-quality 18S rRNA sequences, which include more 18S sequences than in NCBI nt database.\n"
   ]
  },
  {
   "cell_type": "markdown",
   "metadata": {},
   "source": [
    "### nt_micro\n",
    "Sequences from NCBI nt database. Only include those from kingdoms of Archae, Bacteria, Viroids, Viruses and Fungi."
   ]
  },
  {
   "cell_type": "markdown",
   "metadata": {},
   "source": [
    "### nt\n",
    "First suggestion from Kejing Wang. Many thanks.  \n",
    "The same as NCBI nt database."
   ]
  },
  {
   "cell_type": "markdown",
   "metadata": {},
   "source": [
    "### Ezbio\n",
    "Sugguestion from Guozhen Zhao. Many thanks.\n",
    "The same as Ezbiocloud (https://www.ezbiocloud.net/identify).  \n",
    "Introduction from the web (http://help.bioiplug.com/ezbiocloud-16s-database/)  \n",
    "**Advantages**\n",
    "* Designed for species-level identification Learn more\n",
    "* Complete taxonomic hierarchy from phylum to species\n",
    "* Covering species with validly published names, candidatus, potential new species and uncultured phylotypes. For example, >10 tentatively new Acinetobacter species are included.\n",
    "* Good coverage on human microbiome: >96% species-level identification can be achieved.\n",
    "\n",
    "**The content of the EzBioCloud 16S database**  \n",
    "* EzBioCloud 16S database contains the following information:  \n",
    "    * Standardized 16S rRNA gene sequence representing reference taxa  \n",
    "        * All sequences are extracted between two most popular PCR primers (27F-1492R), so similarity calculation should be consistently carried out.  \n",
    "        * In principle, single 16S is assigned to single reference taxon.  \n",
    "    * The reference taxa mean  \n",
    "        * Currently validly published taxonomic names  \n",
    "        * Some of the invalid names (that are likely representing distinct species).  \n",
    "        * Candidatus taxa  \n",
    "        * Unnamed phylotypes that do not belong to the above. These include 16S amplicons and genome sequences.  \n",
    "    * Complete taxonomic hierarchy is given for all 16S sequence (from species to phylum). The hierarchy is based on the maximum likelihood phylogenetic tree of 16S with consideration of the currently accepted classification.  \n",
    "* Source of 16S data  \n",
    "    * Since we have tried to secure the best quality of 16S sequences, the sources of 16S can vary and one of the followings:  \n",
    "    * NCBI 16S amplicon sequences of validly published taxa: e.g.,  AY692362 for Adiaceo aphidicola  \n",
    "    * NCBI 16S amplicon sequences of phylotypes: e.g.,  AJ290038 for AJ290038_s (phylotype corresponding species)  \n",
    "    * 16S sequence extracted from NCBI genome assembly: e.g., CP000238 for Baumannia cicadellinicola.  \n",
    "    * 16S sequence extracted from JGI genome assembly (this genome data may not be available in NCBI): e.g. jgi.1096475 for phylotype jgi.1096475_s in the genusGeodermatophilus.  \n",
    "    * 16S sequence compiled from Pacific Biosciences full-length sequencing of microbiome samples. These represent high-quality 16S sequences using PacBio’s circular consensus sequencing (ccs) technology: e.g. PAC000364 for phylotype PAC000364_s.  \n",
    "    * 16S sequence extracted from internally assembled genome data: e.g. CLG_48533 for Arthrobacter oryzae.  \n",
    "    Consequently, not all data are available in NCBI database. However, all data are freely accessible through www.ezbiocloud.net.  \n",
    "\n",
    "* Why 16S sequences from genome assemblies were used in EzBioCloud, instead of PCR  \n",
    "    * Genome assembly is usually in better quality than PCR amplicon sequencing. Typical NGS sequencing resulted in 50X or higher sequencing depths of coverage.  \n",
    "    * When we include genome sequence-derived 16S to EzBioCloud database, we always check the quality by manual alignment using secondary structural information. In our experience, using genome sequences we can improve the quality of 16S databases for reference purposes.  \n"
   ]
  },
  {
   "cell_type": "markdown",
   "metadata": {},
   "source": [
    "### ITS7.2\n",
    "Unified system for the DNA based fungal species linked to the classification Ver. 7.2 (https://unite.ut.ee/repository.php)  \n",
    "\n",
    "Following Kõljalg et al. (2013), each terminal fungal taxon for which two or more ITS sequences are available is referred to as a species hypothesis (SH). One sequence is chosen to represent each SH; these sequences are called representative sequences (RepS) when chosen automatically by the computer and reference sequences (RefS) when those choices are overridden (or confirmed) by users with expert knowledge of the taxon at hand.\n",
    "\n",
    "Used to identify fungal species."
   ]
  },
  {
   "cell_type": "markdown",
   "metadata": {},
   "source": [
    "## Search result\n",
    "\n",
    "After searching against one database, four files will be created."
   ]
  },
  {
   "cell_type": "markdown",
   "metadata": {},
   "source": [
    "### \\*\\*\\*AllSeqs.fasta\n",
    "\n",
    "All sequences stored in fasta format"
   ]
  },
  {
   "cell_type": "markdown",
   "metadata": {},
   "source": [
    "### \\*\\*\\*sequencesNotIdentified\\*\\*\\*.fasta\n",
    "Sequences not identified in `***Best***result.xlsx` file"
   ]
  },
  {
   "cell_type": "markdown",
   "metadata": {},
   "source": [
    "###  \\*\\*\\*Best \\*\\*\\*Result.xlsx\n",
    "Best result for each of the query sequences selected by the program.\n",
    "\n",
    "Selection standards:\n",
    "* Good species name: not \"unknown\" or \"environmental samples\"\n",
    "* Good taxonomies: of the six terms \"species genus family order class phylum\", allow missing two of them.\n",
    "* qcover > 95%\n",
    "* identity > 97%\n",
    "\n",
    "Explanation of each column:\n",
    "* query: name of query sequence\n",
    "* subject: name of the subject sequence. Usually accession number, which you can fild the sequence by searching the name in NCBI\n",
    "* identity: percentage of same bases of the aligned part between the query and subject sequences.\n",
    "* matchLength: matched length between the query and subject sequences.\n",
    "* qcover: percentage of the query sequences that aligned with the subject sequence.\n",
    "* taxID: taxomomy id of the species, which you can search in NCBI taxomony to find the all taxomony information.\n",
    "* identical: identical base count between the query and subject sequence.\n",
    "* species\n",
    "* genus\n",
    "* family\n",
    "* order\n",
    "* class\n",
    "* phylum\n",
    "* \\*\\*\\*Taxa: taxonomy info stored within the database itself."
   ]
  },
  {
   "cell_type": "markdown",
   "metadata": {},
   "source": [
    "### \\*\\*\\*All\\*\\*\\*Result.xlsx\n",
    "All result of blast search."
   ]
  },
  {
   "cell_type": "markdown",
   "metadata": {},
   "source": [
    "## Use the result"
   ]
  },
  {
   "cell_type": "markdown",
   "metadata": {},
   "source": [
    "Typically, the `***Best***result.xlsx` is good enough. If the  `***sequencesNotIdentified***.fasta` is not empty, it is usually because there are some low-quality bases in the sequences such as `N`'s and the qcover is less than 95. You can check the `***All***Result.xlsx` and select the good one.\n"
   ]
  }
 ],
 "metadata": {
  "kernelspec": {
   "display_name": "Python 3",
   "language": "python",
   "name": "python3"
  },
  "language_info": {
   "codemirror_mode": {
    "name": "ipython",
    "version": 3
   },
   "file_extension": ".py",
   "mimetype": "text/x-python",
   "name": "python",
   "nbconvert_exporter": "python",
   "pygments_lexer": "ipython3",
   "version": "3.6.4"
  },
  "toc": {
   "nav_menu": {},
   "number_sections": true,
   "sideBar": true,
   "skip_h1_title": true,
   "title_cell": "Table of Contents",
   "title_sidebar": "Contents",
   "toc_cell": false,
   "toc_position": {},
   "toc_section_display": true,
   "toc_window_display": true
  }
 },
 "nbformat": 4,
 "nbformat_minor": 2
}
