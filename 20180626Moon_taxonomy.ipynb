{
 "cells": [
  {
   "cell_type": "markdown",
   "metadata": {},
   "source": [
    "# 重新梳理物种鉴定的流程"
   ]
  },
  {
   "cell_type": "markdown",
   "metadata": {},
   "source": [
    "## 基于16s的物种鉴定"
   ]
  },
  {
   "cell_type": "markdown",
   "metadata": {},
   "source": [
    "设计思路：  \n",
    "* 全部数据库，序列ID统一为NCBI accession number，不含版本号。\n",
    "* 优先搜索EzbioPlus，以qcover>95%, identity>97% 为标准。\n",
    "    * EzbioPlus为Ezbio添加肠道目标菌群的16s序列。\n",
    "    * identity>99%的，直接选择肠道目标菌群。\n",
    "    * identity>98%的，在identity差别在0.5%的范围内，优先选择肠道目标菌群。剩余序列进入下一步。\n",
    "* 未找到的，搜索nt_16s, 以qcover>95%, identity>97% 为标准。\n",
    "    * nt_16s为nt中的16s序列，添加SILVA16s中有goodlineage的序列构成，去除重复序列，优先保留goodlineage的序列\n",
    "    * 与上一步搜索比较identity>97%，差别在0.5%的范围内，优先选择EzbioPlus,然后选择nt_16s有goodlineage的\n",
    "    * 未找到的，合并两个表，按照bit-score排序，供人工选择，每个物种保留前100\n",
    "* MoonBio已测序列构成的数据库\n",
    "    * 想办法收集序列。当新序列在数据库中找不到identity>99.8%的序列时，加入数据库。"
   ]
  },
  {
   "cell_type": "markdown",
   "metadata": {},
   "source": [
    "## 准备数据"
   ]
  },
  {
   "cell_type": "markdown",
   "metadata": {},
   "source": [
    "### 下载数据\n",
    "\n",
    "下载taxonomy, 20180629\n",
    "```\n",
    "/mnt/d/linux/.aspera/connect/bin/ascp -T -k 1 -i ~/.aspera/connect/etc/asperaweb_id_dsa.openssh anonftp@ftp.ncbi.nlm.nih.gov:/pub/taxonomy/accession2taxid/nucl_gss.accession2taxid.gz  ~/W/NCBI/taxonamy/\n",
    "\n",
    "/mnt/d/linux/.aspera/connect/bin/ascp -T -k 1 -i ~/.aspera/connect/etc/asperaweb_id_dsa.openssh anonftp@ftp.ncbi.nlm.nih.gov:/pub/taxonomy/accession2taxid/nucl_wgs.accession2taxid.gz  ~/W/NCBI/taxonamy/\n",
    "\n",
    "/mnt/d/linux/.aspera/connect/bin/ascp -T -k 1 -i ~/.aspera/connect/etc/asperaweb_id_dsa.openssh anonftp@ftp.ncbi.nlm.nih.gov:/pub/taxonomy/accession2taxid/nucl_est.accession2taxid.gz  ~/W/NCBI/taxonamy/\n",
    "\n",
    "/mnt/d/linux/.aspera/connect/bin/ascp -T -k 1 -i ~/.aspera/connect/etc/asperaweb_id_dsa.openssh anonftp@ftp.ncbi.nlm.nih.gov:/pub/taxonomy/taxdump.tar.gz  ~/W/NCBI/taxonamy/\n",
    "```\n",
    "\n",
    "下载nt, 20180608\n",
    "```\n",
    "/mnt/d/linux/.aspera/connect/bin/ascp -T -k 1 -i ~/.aspera/connect/etc/asperaweb_id_dsa.openssh anonftp@ftp.ncbi.nlm.nih.gov:/blast/db/FASTA/nt.gz  ~/W/NCBI/nt/\n",
    "```"
   ]
  },
  {
   "cell_type": "markdown",
   "metadata": {},
   "source": [
    "### 物种名字选择\n",
    "#### 肠道微生物\n",
    "人体肠道微生物有一个列表，其中有些生物还没有被加入NCBI。对于有NCBI taxID的，找到他们的taxID。'Chitinophaga terrae'有两个taxID，只保留其中一个。\n",
    "```\n",
    "\n",
    "```"
   ]
  }
 ],
 "metadata": {
  "kernelspec": {
   "display_name": "Python 3",
   "language": "python",
   "name": "python3"
  },
  "language_info": {
   "codemirror_mode": {
    "name": "ipython",
    "version": 3
   },
   "file_extension": ".py",
   "mimetype": "text/x-python",
   "name": "python",
   "nbconvert_exporter": "python",
   "pygments_lexer": "ipython3",
   "version": "3.6.4"
  },
  "toc": {
   "nav_menu": {},
   "number_sections": true,
   "sideBar": true,
   "skip_h1_title": true,
   "title_cell": "Table of Contents",
   "title_sidebar": "Contents",
   "toc_cell": false,
   "toc_position": {
    "height": "calc(100% - 180px)",
    "left": "10px",
    "top": "150px",
    "width": "237px"
   },
   "toc_section_display": true,
   "toc_window_display": true
  }
 },
 "nbformat": 4,
 "nbformat_minor": 2
}
