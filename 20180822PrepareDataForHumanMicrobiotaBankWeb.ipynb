{
 "cells": [
  {
   "cell_type": "markdown",
   "metadata": {},
   "source": [
    "# Prepare data for Human Microbiota Bank Website"
   ]
  },
  {
   "cell_type": "markdown",
   "metadata": {},
   "source": [
    "import required packages"
   ]
  },
  {
   "cell_type": "code",
   "execution_count": 46,
   "metadata": {},
   "outputs": [],
   "source": [
    "from urllib.request import urlopen\n",
    "from bs4 import BeautifulSoup\n",
    "import time\n",
    "from Bio import SeqIO\n",
    "from io import StringIO\n",
    "from collections import Counter\n",
    "import pandas as pd\n",
    "import os\n",
    "import sys\n",
    "import shutil\n",
    "import re\n",
    "import pickle\n",
    "import numpy as np"
   ]
  },
  {
   "cell_type": "markdown",
   "metadata": {},
   "source": [
    "## Generate species list table\n",
    "\n",
    "Species will include the in the literature (From Dr. Xianzhi Jiang) and those identified by Dr. Zidan Zhao"
   ]
  },
  {
   "cell_type": "markdown",
   "metadata": {},
   "source": [
    "### humanRef"
   ]
  },
  {
   "cell_type": "code",
   "execution_count": 47,
   "metadata": {},
   "outputs": [
    {
     "data": {
      "text/html": [
       "<div>\n",
       "<style scoped>\n",
       "    .dataframe tbody tr th:only-of-type {\n",
       "        vertical-align: middle;\n",
       "    }\n",
       "\n",
       "    .dataframe tbody tr th {\n",
       "        vertical-align: top;\n",
       "    }\n",
       "\n",
       "    .dataframe thead th {\n",
       "        text-align: right;\n",
       "    }\n",
       "</style>\n",
       "<table border=\"1\" class=\"dataframe\">\n",
       "  <thead>\n",
       "    <tr style=\"text-align: right;\">\n",
       "      <th></th>\n",
       "      <th>tax_id</th>\n",
       "      <th>species_id</th>\n",
       "      <th>name</th>\n",
       "      <th>species</th>\n",
       "      <th>genus</th>\n",
       "      <th>family</th>\n",
       "      <th>order</th>\n",
       "      <th>class</th>\n",
       "      <th>phylum</th>\n",
       "      <th>kingdom</th>\n",
       "    </tr>\n",
       "  </thead>\n",
       "  <tbody>\n",
       "    <tr>\n",
       "      <th>0</th>\n",
       "      <td>100053</td>\n",
       "      <td>100053</td>\n",
       "      <td>Leptospira alexanderi</td>\n",
       "      <td>Leptospira alexanderi</td>\n",
       "      <td>Leptospira</td>\n",
       "      <td>Leptospiraceae</td>\n",
       "      <td>NaN</td>\n",
       "      <td>Spirochaetia</td>\n",
       "      <td>Spirochaetes</td>\n",
       "      <td>Bacteria</td>\n",
       "    </tr>\n",
       "    <tr>\n",
       "      <th>1</th>\n",
       "      <td>1000560</td>\n",
       "      <td>562</td>\n",
       "      <td>Escherichia coli VDP</td>\n",
       "      <td>Escherichia coli</td>\n",
       "      <td>Escherichia</td>\n",
       "      <td>Enterobacteriaceae</td>\n",
       "      <td>Enterobacterales</td>\n",
       "      <td>Gammaproteobacteria</td>\n",
       "      <td>Proteobacteria</td>\n",
       "      <td>Bacteria</td>\n",
       "    </tr>\n",
       "    <tr>\n",
       "      <th>2</th>\n",
       "      <td>1000561</td>\n",
       "      <td>287</td>\n",
       "      <td>Pseudomonas aeruginosa AES-1R</td>\n",
       "      <td>Pseudomonas aeruginosa</td>\n",
       "      <td>Pseudomonas</td>\n",
       "      <td>Pseudomonadaceae</td>\n",
       "      <td>Pseudomonadales</td>\n",
       "      <td>Gammaproteobacteria</td>\n",
       "      <td>Proteobacteria</td>\n",
       "      <td>Bacteria</td>\n",
       "    </tr>\n",
       "    <tr>\n",
       "      <th>3</th>\n",
       "      <td>1000567</td>\n",
       "      <td>216816</td>\n",
       "      <td>Bifidobacterium longum 3_1_37DFAAB</td>\n",
       "      <td>Bifidobacterium longum</td>\n",
       "      <td>Bifidobacterium</td>\n",
       "      <td>Bifidobacteriaceae</td>\n",
       "      <td>Bifidobacteriales</td>\n",
       "      <td>Actinobacteria</td>\n",
       "      <td>Actinobacteria</td>\n",
       "      <td>Bacteria</td>\n",
       "    </tr>\n",
       "    <tr>\n",
       "      <th>4</th>\n",
       "      <td>1000570</td>\n",
       "      <td>1328</td>\n",
       "      <td>Streptococcus anginosus SK52 = DSM 20563</td>\n",
       "      <td>Streptococcus anginosus</td>\n",
       "      <td>Streptococcus</td>\n",
       "      <td>Streptococcaceae</td>\n",
       "      <td>Lactobacillales</td>\n",
       "      <td>Bacilli</td>\n",
       "      <td>Firmicutes</td>\n",
       "      <td>Bacteria</td>\n",
       "    </tr>\n",
       "  </tbody>\n",
       "</table>\n",
       "</div>"
      ],
      "text/plain": [
       "    tax_id species_id                                      name  \\\n",
       "0   100053     100053                     Leptospira alexanderi   \n",
       "1  1000560        562                      Escherichia coli VDP   \n",
       "2  1000561        287             Pseudomonas aeruginosa AES-1R   \n",
       "3  1000567     216816        Bifidobacterium longum 3_1_37DFAAB   \n",
       "4  1000570       1328  Streptococcus anginosus SK52 = DSM 20563   \n",
       "\n",
       "                   species            genus              family  \\\n",
       "0    Leptospira alexanderi       Leptospira      Leptospiraceae   \n",
       "1         Escherichia coli      Escherichia  Enterobacteriaceae   \n",
       "2   Pseudomonas aeruginosa      Pseudomonas    Pseudomonadaceae   \n",
       "3   Bifidobacterium longum  Bifidobacterium  Bifidobacteriaceae   \n",
       "4  Streptococcus anginosus    Streptococcus    Streptococcaceae   \n",
       "\n",
       "               order                class          phylum   kingdom  \n",
       "0                NaN         Spirochaetia    Spirochaetes  Bacteria  \n",
       "1   Enterobacterales  Gammaproteobacteria  Proteobacteria  Bacteria  \n",
       "2    Pseudomonadales  Gammaproteobacteria  Proteobacteria  Bacteria  \n",
       "3  Bifidobacteriales       Actinobacteria  Actinobacteria  Bacteria  \n",
       "4    Lactobacillales              Bacilli      Firmicutes  Bacteria  "
      ]
     },
     "execution_count": 47,
     "metadata": {},
     "output_type": "execute_result"
    }
   ],
   "source": [
    "file_human_ref = '/mnt/d/linux/W/NCBI/MoonRef20180810/HumanRef2018.speciesLineageName'\n",
    "df_taxid_humanRef_lineage = pd.read_csv(file_human_ref,sep='\\t',dtype=str)\n",
    "df_taxid_humanRef_lineage.head()"
   ]
  },
  {
   "cell_type": "code",
   "execution_count": 48,
   "metadata": {},
   "outputs": [
    {
     "data": {
      "text/plain": [
       "(31770, 10)"
      ]
     },
     "execution_count": 48,
     "metadata": {},
     "output_type": "execute_result"
    }
   ],
   "source": [
    "df_taxid_humanRef_lineage.shape"
   ]
  },
  {
   "cell_type": "markdown",
   "metadata": {},
   "source": [
    "### Identified by MoonBiotech"
   ]
  },
  {
   "cell_type": "code",
   "execution_count": 49,
   "metadata": {},
   "outputs": [
    {
     "data": {
      "text/plain": [
       "(13608, 57)"
      ]
     },
     "execution_count": 49,
     "metadata": {},
     "output_type": "execute_result"
    }
   ],
   "source": [
    "file_moonbiotech = '/mnt/d/linux/M/www/Django/moonbio/media/HumanMicrobes/20180820MNH_human_micro_all.xlsx'\n",
    "df_moonbiotech = pd.read_excel(file_moonbiotech,sheet_name='all',index_col=0,dtype=str)\n",
    "df_moonbiotech.shape"
   ]
  },
  {
   "cell_type": "code",
   "execution_count": 50,
   "metadata": {},
   "outputs": [
    {
     "data": {
      "text/plain": [
       "Index(['all_IDs', 'seq', 'seq_len', 'Analysis', 'Notes', 'HM_subject',\n",
       "       'HM_matchLength', 'HM_identical', 'HM_qcover', 'HM_identity',\n",
       "       'HM_taxID', 'HM_name', 'HM_species_id', 'HM_species', 'HM_genus',\n",
       "       'HM_family', 'HM_order', 'HM_class', 'HM_phylum', 'HM_kingdom',\n",
       "       'nt_subject', 'nt_matchLength', 'nt_identical', 'nt_qcover',\n",
       "       'nt_identity', 'nt_taxID', 'nt_name', 'nt_species_id', 'nt_species',\n",
       "       'nt_genus', 'nt_family', 'nt_order', 'nt_class', 'nt_phylum',\n",
       "       'nt_kingdom', 'MatchMNH', 'MatchMNH_len', 'Isolation sources code',\n",
       "       'Isolation place', 'Isolation source', 'Isolation medium',\n",
       "       'Cultivated medium', 'Amplified cultre medium', 'Cultivated TM',\n",
       "       'cultivated condition', 'pH', 'Sequencing', 'Preservation Freezer 1',\n",
       "       'Preservation Freezer 1 Box', 'Preservation Freezer 2',\n",
       "       'Preservation Freezer 2 Box', 'Preserved copy 1', 'Preserved copy 2',\n",
       "       'Preserved copy 3', 'Preserved copy 4', 'remark', 'auditor'],\n",
       "      dtype='object')"
      ]
     },
     "execution_count": 50,
     "metadata": {},
     "output_type": "execute_result"
    }
   ],
   "source": [
    "df_moonbiotech.columns"
   ]
  },
  {
   "cell_type": "code",
   "execution_count": 51,
   "metadata": {},
   "outputs": [
    {
     "data": {
      "text/html": [
       "<div>\n",
       "<style scoped>\n",
       "    .dataframe tbody tr th:only-of-type {\n",
       "        vertical-align: middle;\n",
       "    }\n",
       "\n",
       "    .dataframe tbody tr th {\n",
       "        vertical-align: top;\n",
       "    }\n",
       "\n",
       "    .dataframe thead th {\n",
       "        text-align: right;\n",
       "    }\n",
       "</style>\n",
       "<table border=\"1\" class=\"dataframe\">\n",
       "  <thead>\n",
       "    <tr style=\"text-align: right;\">\n",
       "      <th></th>\n",
       "      <th>all_IDs</th>\n",
       "      <th>seq</th>\n",
       "      <th>seq_len</th>\n",
       "      <th>Analysis</th>\n",
       "      <th>Notes</th>\n",
       "      <th>HM_subject</th>\n",
       "      <th>HM_matchLength</th>\n",
       "      <th>HM_identical</th>\n",
       "      <th>HM_qcover</th>\n",
       "      <th>HM_identity</th>\n",
       "      <th>...</th>\n",
       "      <th>Preservation Freezer 1</th>\n",
       "      <th>Preservation Freezer 1 Box</th>\n",
       "      <th>Preservation Freezer 2</th>\n",
       "      <th>Preservation Freezer 2 Box</th>\n",
       "      <th>Preserved copy 1</th>\n",
       "      <th>Preserved copy 2</th>\n",
       "      <th>Preserved copy 3</th>\n",
       "      <th>Preserved copy 4</th>\n",
       "      <th>remark</th>\n",
       "      <th>auditor</th>\n",
       "    </tr>\n",
       "    <tr>\n",
       "      <th>index</th>\n",
       "      <th></th>\n",
       "      <th></th>\n",
       "      <th></th>\n",
       "      <th></th>\n",
       "      <th></th>\n",
       "      <th></th>\n",
       "      <th></th>\n",
       "      <th></th>\n",
       "      <th></th>\n",
       "      <th></th>\n",
       "      <th></th>\n",
       "      <th></th>\n",
       "      <th></th>\n",
       "      <th></th>\n",
       "      <th></th>\n",
       "      <th></th>\n",
       "      <th></th>\n",
       "      <th></th>\n",
       "      <th></th>\n",
       "      <th></th>\n",
       "      <th></th>\n",
       "    </tr>\n",
       "  </thead>\n",
       "  <tbody>\n",
       "    <tr>\n",
       "      <th>1</th>\n",
       "      <td>MNH00001</td>\n",
       "      <td>nan</td>\n",
       "      <td>nan</td>\n",
       "      <td>nan</td>\n",
       "      <td>nan</td>\n",
       "      <td>nan</td>\n",
       "      <td>nan</td>\n",
       "      <td>nan</td>\n",
       "      <td>nan</td>\n",
       "      <td>nan</td>\n",
       "      <td>...</td>\n",
       "      <td>7</td>\n",
       "      <td>①</td>\n",
       "      <td>大-20</td>\n",
       "      <td>①</td>\n",
       "      <td>nan</td>\n",
       "      <td>nan</td>\n",
       "      <td>Y</td>\n",
       "      <td>Y</td>\n",
       "      <td>nan</td>\n",
       "      <td>nan</td>\n",
       "    </tr>\n",
       "    <tr>\n",
       "      <th>2</th>\n",
       "      <td>MNH00002</td>\n",
       "      <td>nan</td>\n",
       "      <td>nan</td>\n",
       "      <td>nan</td>\n",
       "      <td>nan</td>\n",
       "      <td>nan</td>\n",
       "      <td>nan</td>\n",
       "      <td>nan</td>\n",
       "      <td>nan</td>\n",
       "      <td>nan</td>\n",
       "      <td>...</td>\n",
       "      <td>7</td>\n",
       "      <td>①</td>\n",
       "      <td>大-20</td>\n",
       "      <td>①</td>\n",
       "      <td>nan</td>\n",
       "      <td>nan</td>\n",
       "      <td>Y</td>\n",
       "      <td>nan</td>\n",
       "      <td>nan</td>\n",
       "      <td>nan</td>\n",
       "    </tr>\n",
       "    <tr>\n",
       "      <th>3</th>\n",
       "      <td>MNH00003</td>\n",
       "      <td>nan</td>\n",
       "      <td>nan</td>\n",
       "      <td>nan</td>\n",
       "      <td>nan</td>\n",
       "      <td>nan</td>\n",
       "      <td>nan</td>\n",
       "      <td>nan</td>\n",
       "      <td>nan</td>\n",
       "      <td>nan</td>\n",
       "      <td>...</td>\n",
       "      <td>7</td>\n",
       "      <td>①</td>\n",
       "      <td>大-20</td>\n",
       "      <td>①</td>\n",
       "      <td>nan</td>\n",
       "      <td>nan</td>\n",
       "      <td>Y</td>\n",
       "      <td>nan</td>\n",
       "      <td>nan</td>\n",
       "      <td>nan</td>\n",
       "    </tr>\n",
       "    <tr>\n",
       "      <th>4</th>\n",
       "      <td>MNH00004</td>\n",
       "      <td>nan</td>\n",
       "      <td>nan</td>\n",
       "      <td>nan</td>\n",
       "      <td>nan</td>\n",
       "      <td>nan</td>\n",
       "      <td>nan</td>\n",
       "      <td>nan</td>\n",
       "      <td>nan</td>\n",
       "      <td>nan</td>\n",
       "      <td>...</td>\n",
       "      <td>7</td>\n",
       "      <td>①</td>\n",
       "      <td>大-20</td>\n",
       "      <td>①</td>\n",
       "      <td>nan</td>\n",
       "      <td>nan</td>\n",
       "      <td>Y</td>\n",
       "      <td>Y</td>\n",
       "      <td>nan</td>\n",
       "      <td>nan</td>\n",
       "    </tr>\n",
       "    <tr>\n",
       "      <th>5</th>\n",
       "      <td>MNH00005</td>\n",
       "      <td>nan</td>\n",
       "      <td>nan</td>\n",
       "      <td>nan</td>\n",
       "      <td>nan</td>\n",
       "      <td>nan</td>\n",
       "      <td>nan</td>\n",
       "      <td>nan</td>\n",
       "      <td>nan</td>\n",
       "      <td>nan</td>\n",
       "      <td>...</td>\n",
       "      <td>7</td>\n",
       "      <td>①</td>\n",
       "      <td>大-20</td>\n",
       "      <td>①</td>\n",
       "      <td>nan</td>\n",
       "      <td>nan</td>\n",
       "      <td>Y</td>\n",
       "      <td>Y</td>\n",
       "      <td>nan</td>\n",
       "      <td>nan</td>\n",
       "    </tr>\n",
       "  </tbody>\n",
       "</table>\n",
       "<p>5 rows × 57 columns</p>\n",
       "</div>"
      ],
      "text/plain": [
       "        all_IDs  seq seq_len Analysis Notes HM_subject HM_matchLength  \\\n",
       "index                                                                   \n",
       "1      MNH00001  nan     nan      nan   nan        nan            nan   \n",
       "2      MNH00002  nan     nan      nan   nan        nan            nan   \n",
       "3      MNH00003  nan     nan      nan   nan        nan            nan   \n",
       "4      MNH00004  nan     nan      nan   nan        nan            nan   \n",
       "5      MNH00005  nan     nan      nan   nan        nan            nan   \n",
       "\n",
       "      HM_identical HM_qcover HM_identity   ...   Preservation Freezer 1  \\\n",
       "index                                      ...                            \n",
       "1              nan       nan         nan   ...                        7   \n",
       "2              nan       nan         nan   ...                        7   \n",
       "3              nan       nan         nan   ...                        7   \n",
       "4              nan       nan         nan   ...                        7   \n",
       "5              nan       nan         nan   ...                        7   \n",
       "\n",
       "      Preservation Freezer 1 Box Preservation Freezer 2  \\\n",
       "index                                                     \n",
       "1                              ①                   大-20   \n",
       "2                              ①                   大-20   \n",
       "3                              ①                   大-20   \n",
       "4                              ①                   大-20   \n",
       "5                              ①                   大-20   \n",
       "\n",
       "      Preservation Freezer 2 Box Preserved copy 1 Preserved copy 2  \\\n",
       "index                                                                \n",
       "1                              ①              nan              nan   \n",
       "2                              ①              nan              nan   \n",
       "3                              ①              nan              nan   \n",
       "4                              ①              nan              nan   \n",
       "5                              ①              nan              nan   \n",
       "\n",
       "      Preserved copy 3 Preserved copy 4 remark auditor  \n",
       "index                                                   \n",
       "1                    Y                Y    nan     nan  \n",
       "2                    Y              nan    nan     nan  \n",
       "3                    Y              nan    nan     nan  \n",
       "4                    Y                Y    nan     nan  \n",
       "5                    Y                Y    nan     nan  \n",
       "\n",
       "[5 rows x 57 columns]"
      ]
     },
     "execution_count": 51,
     "metadata": {},
     "output_type": "execute_result"
    }
   ],
   "source": [
    "df_moonbiotech.head()"
   ]
  },
  {
   "cell_type": "code",
   "execution_count": 52,
   "metadata": {},
   "outputs": [
    {
     "data": {
      "text/plain": [
       "(8282, 57)"
      ]
     },
     "execution_count": 52,
     "metadata": {},
     "output_type": "execute_result"
    }
   ],
   "source": [
    "df_moonbiotech1 = df_moonbiotech[df_moonbiotech['seq']!='nan']\n",
    "df_moonbiotech1.shape"
   ]
  },
  {
   "cell_type": "code",
   "execution_count": 53,
   "metadata": {},
   "outputs": [
    {
     "data": {
      "text/html": [
       "<div>\n",
       "<style scoped>\n",
       "    .dataframe tbody tr th:only-of-type {\n",
       "        vertical-align: middle;\n",
       "    }\n",
       "\n",
       "    .dataframe tbody tr th {\n",
       "        vertical-align: top;\n",
       "    }\n",
       "\n",
       "    .dataframe thead th {\n",
       "        text-align: right;\n",
       "    }\n",
       "</style>\n",
       "<table border=\"1\" class=\"dataframe\">\n",
       "  <thead>\n",
       "    <tr style=\"text-align: right;\">\n",
       "      <th></th>\n",
       "      <th>all_IDs</th>\n",
       "      <th>seq</th>\n",
       "      <th>seq_len</th>\n",
       "      <th>Analysis</th>\n",
       "      <th>Notes</th>\n",
       "      <th>HM_subject</th>\n",
       "      <th>HM_matchLength</th>\n",
       "      <th>HM_identical</th>\n",
       "      <th>HM_qcover</th>\n",
       "      <th>HM_identity</th>\n",
       "      <th>...</th>\n",
       "      <th>Preservation Freezer 1</th>\n",
       "      <th>Preservation Freezer 1 Box</th>\n",
       "      <th>Preservation Freezer 2</th>\n",
       "      <th>Preservation Freezer 2 Box</th>\n",
       "      <th>Preserved copy 1</th>\n",
       "      <th>Preserved copy 2</th>\n",
       "      <th>Preserved copy 3</th>\n",
       "      <th>Preserved copy 4</th>\n",
       "      <th>remark</th>\n",
       "      <th>auditor</th>\n",
       "    </tr>\n",
       "    <tr>\n",
       "      <th>index</th>\n",
       "      <th></th>\n",
       "      <th></th>\n",
       "      <th></th>\n",
       "      <th></th>\n",
       "      <th></th>\n",
       "      <th></th>\n",
       "      <th></th>\n",
       "      <th></th>\n",
       "      <th></th>\n",
       "      <th></th>\n",
       "      <th></th>\n",
       "      <th></th>\n",
       "      <th></th>\n",
       "      <th></th>\n",
       "      <th></th>\n",
       "      <th></th>\n",
       "      <th></th>\n",
       "      <th></th>\n",
       "      <th></th>\n",
       "      <th></th>\n",
       "      <th></th>\n",
       "    </tr>\n",
       "  </thead>\n",
       "  <tbody>\n",
       "    <tr>\n",
       "      <th>141</th>\n",
       "      <td>MNH00141</td>\n",
       "      <td>GCTTACACATGCAGTCGAGGGGCAGCATGACTTAGCAATAGGTTGA...</td>\n",
       "      <td>1403</td>\n",
       "      <td>nan</td>\n",
       "      <td>nan</td>\n",
       "      <td>ABJL02000008.3336138.3337648</td>\n",
       "      <td>1405</td>\n",
       "      <td>1399</td>\n",
       "      <td>100</td>\n",
       "      <td>99.573</td>\n",
       "      <td>...</td>\n",
       "      <td>7</td>\n",
       "      <td>1</td>\n",
       "      <td>nan</td>\n",
       "      <td>nan</td>\n",
       "      <td>nan</td>\n",
       "      <td>nan</td>\n",
       "      <td>nan</td>\n",
       "      <td>nan</td>\n",
       "      <td>nan</td>\n",
       "      <td>nan</td>\n",
       "    </tr>\n",
       "    <tr>\n",
       "      <th>142</th>\n",
       "      <td>MNH00142</td>\n",
       "      <td>CTTACACATGCAGTCGAGGGGCAGCACGATGTAGCAATACATTGGT...</td>\n",
       "      <td>1407</td>\n",
       "      <td>nan</td>\n",
       "      <td>nan</td>\n",
       "      <td>AQHV01000028.191627.193141</td>\n",
       "      <td>1409</td>\n",
       "      <td>1406</td>\n",
       "      <td>100</td>\n",
       "      <td>99.787</td>\n",
       "      <td>...</td>\n",
       "      <td>7</td>\n",
       "      <td>1</td>\n",
       "      <td>nan</td>\n",
       "      <td>nan</td>\n",
       "      <td>nan</td>\n",
       "      <td>nan</td>\n",
       "      <td>nan</td>\n",
       "      <td>nan</td>\n",
       "      <td>nan</td>\n",
       "      <td>nan</td>\n",
       "    </tr>\n",
       "    <tr>\n",
       "      <th>145</th>\n",
       "      <td>MNH00145</td>\n",
       "      <td>GCTTACACATGCAGTCGAGGGGCAGCATTTTAGTTTGCTTGCAAAC...</td>\n",
       "      <td>1410</td>\n",
       "      <td>nan</td>\n",
       "      <td>nan</td>\n",
       "      <td>EQ973383</td>\n",
       "      <td>1413</td>\n",
       "      <td>1390</td>\n",
       "      <td>100</td>\n",
       "      <td>98.37200000000001</td>\n",
       "      <td>...</td>\n",
       "      <td>7</td>\n",
       "      <td>1</td>\n",
       "      <td>nan</td>\n",
       "      <td>nan</td>\n",
       "      <td>nan</td>\n",
       "      <td>nan</td>\n",
       "      <td>nan</td>\n",
       "      <td>nan</td>\n",
       "      <td>nan</td>\n",
       "      <td>nan</td>\n",
       "    </tr>\n",
       "    <tr>\n",
       "      <th>147</th>\n",
       "      <td>MNH00147</td>\n",
       "      <td>TACACATGCAGTCGAGGGGCAGCATTTTAGTTTGCTTGCAAACTAA...</td>\n",
       "      <td>1343</td>\n",
       "      <td>nan</td>\n",
       "      <td>nan</td>\n",
       "      <td>KP944117.1</td>\n",
       "      <td>1338</td>\n",
       "      <td>1335</td>\n",
       "      <td>99</td>\n",
       "      <td>99.77600000000001</td>\n",
       "      <td>...</td>\n",
       "      <td>7</td>\n",
       "      <td>1</td>\n",
       "      <td>nan</td>\n",
       "      <td>nan</td>\n",
       "      <td>nan</td>\n",
       "      <td>nan</td>\n",
       "      <td>nan</td>\n",
       "      <td>nan</td>\n",
       "      <td>nan</td>\n",
       "      <td>nan</td>\n",
       "    </tr>\n",
       "    <tr>\n",
       "      <th>148</th>\n",
       "      <td>MNH00148</td>\n",
       "      <td>CTTACACATGCAGTCGAGGGGCAGCATGATTTGTAGCAATACAGAT...</td>\n",
       "      <td>1409</td>\n",
       "      <td>nan</td>\n",
       "      <td>nan</td>\n",
       "      <td>AAXE02000112</td>\n",
       "      <td>1411</td>\n",
       "      <td>1409</td>\n",
       "      <td>100</td>\n",
       "      <td>99.85799999999999</td>\n",
       "      <td>...</td>\n",
       "      <td>7</td>\n",
       "      <td>1</td>\n",
       "      <td>nan</td>\n",
       "      <td>nan</td>\n",
       "      <td>nan</td>\n",
       "      <td>nan</td>\n",
       "      <td>nan</td>\n",
       "      <td>nan</td>\n",
       "      <td>nan</td>\n",
       "      <td>nan</td>\n",
       "    </tr>\n",
       "  </tbody>\n",
       "</table>\n",
       "<p>5 rows × 57 columns</p>\n",
       "</div>"
      ],
      "text/plain": [
       "        all_IDs                                                seq seq_len  \\\n",
       "index                                                                        \n",
       "141    MNH00141  GCTTACACATGCAGTCGAGGGGCAGCATGACTTAGCAATAGGTTGA...    1403   \n",
       "142    MNH00142  CTTACACATGCAGTCGAGGGGCAGCACGATGTAGCAATACATTGGT...    1407   \n",
       "145    MNH00145  GCTTACACATGCAGTCGAGGGGCAGCATTTTAGTTTGCTTGCAAAC...    1410   \n",
       "147    MNH00147  TACACATGCAGTCGAGGGGCAGCATTTTAGTTTGCTTGCAAACTAA...    1343   \n",
       "148    MNH00148  CTTACACATGCAGTCGAGGGGCAGCATGATTTGTAGCAATACAGAT...    1409   \n",
       "\n",
       "      Analysis Notes                    HM_subject HM_matchLength  \\\n",
       "index                                                               \n",
       "141        nan   nan  ABJL02000008.3336138.3337648           1405   \n",
       "142        nan   nan    AQHV01000028.191627.193141           1409   \n",
       "145        nan   nan                      EQ973383           1413   \n",
       "147        nan   nan                    KP944117.1           1338   \n",
       "148        nan   nan                  AAXE02000112           1411   \n",
       "\n",
       "      HM_identical HM_qcover        HM_identity   ...    \\\n",
       "index                                             ...     \n",
       "141           1399       100             99.573   ...     \n",
       "142           1406       100             99.787   ...     \n",
       "145           1390       100  98.37200000000001   ...     \n",
       "147           1335        99  99.77600000000001   ...     \n",
       "148           1409       100  99.85799999999999   ...     \n",
       "\n",
       "      Preservation Freezer 1 Preservation Freezer 1 Box  \\\n",
       "index                                                     \n",
       "141                        7                          1   \n",
       "142                        7                          1   \n",
       "145                        7                          1   \n",
       "147                        7                          1   \n",
       "148                        7                          1   \n",
       "\n",
       "      Preservation Freezer 2 Preservation Freezer 2 Box Preserved copy 1  \\\n",
       "index                                                                      \n",
       "141                      nan                        nan              nan   \n",
       "142                      nan                        nan              nan   \n",
       "145                      nan                        nan              nan   \n",
       "147                      nan                        nan              nan   \n",
       "148                      nan                        nan              nan   \n",
       "\n",
       "      Preserved copy 2 Preserved copy 3 Preserved copy 4 remark auditor  \n",
       "index                                                                    \n",
       "141                nan              nan              nan    nan     nan  \n",
       "142                nan              nan              nan    nan     nan  \n",
       "145                nan              nan              nan    nan     nan  \n",
       "147                nan              nan              nan    nan     nan  \n",
       "148                nan              nan              nan    nan     nan  \n",
       "\n",
       "[5 rows x 57 columns]"
      ]
     },
     "execution_count": 53,
     "metadata": {},
     "output_type": "execute_result"
    }
   ],
   "source": [
    "df_moonbiotech1.head()"
   ]
  },
  {
   "cell_type": "code",
   "execution_count": 54,
   "metadata": {},
   "outputs": [],
   "source": [
    "df_moonbiotech1=df_moonbiotech1.copy()\n",
    "df_moonbiotech1['seq_len'] = df_moonbiotech1['seq_len'].astype(int)"
   ]
  },
  {
   "cell_type": "code",
   "execution_count": 55,
   "metadata": {},
   "outputs": [
    {
     "data": {
      "text/plain": [
       "(7323, 57)"
      ]
     },
     "execution_count": 55,
     "metadata": {},
     "output_type": "execute_result"
    }
   ],
   "source": [
    "df_moonbiotech2 = df_moonbiotech1[df_moonbiotech1['seq_len']>1000]\n",
    "df_moonbiotech2.shape"
   ]
  },
  {
   "cell_type": "markdown",
   "metadata": {},
   "source": [
    "find representive ids"
   ]
  },
  {
   "cell_type": "code",
   "execution_count": 56,
   "metadata": {},
   "outputs": [
    {
     "name": "stdout",
     "output_type": "stream",
     "text": [
      "4765\n"
     ]
    }
   ],
   "source": [
    "st_moon_rep = set(df_moonbiotech2['MatchMNH'])\n",
    "print(len(st_moon_rep))"
   ]
  },
  {
   "cell_type": "code",
   "execution_count": 57,
   "metadata": {},
   "outputs": [
    {
     "data": {
      "text/plain": [
       "(4765, 57)"
      ]
     },
     "execution_count": 57,
     "metadata": {},
     "output_type": "execute_result"
    }
   ],
   "source": [
    "# get represntive lineages\n",
    "df_moonbiotech3 = df_moonbiotech2[df_moonbiotech2['all_IDs'].apply(lambda x:x in st_moon_rep)]\n",
    "df_moonbiotech3.shape"
   ]
  },
  {
   "cell_type": "code",
   "execution_count": 58,
   "metadata": {},
   "outputs": [
    {
     "name": "stdout",
     "output_type": "stream",
     "text": [
      "28 115\n"
     ]
    }
   ],
   "source": [
    "# get moon species not in df_taxid_humanRef_lineage\n",
    "st_humanRef_tax = set(df_taxid_humanRef_lineage['species_id'])\n",
    "ls_moon_unique_speciesIDs = [e for e in df_moonbiotech3['HM_species_id'] if e not in st_humanRef_tax]\n",
    "print(len(set(ls_moon_unique_speciesIDs)),len(ls_moon_unique_speciesIDs))"
   ]
  },
  {
   "cell_type": "code",
   "execution_count": 59,
   "metadata": {},
   "outputs": [],
   "source": [
    "df_taxid_moon = df_moonbiotech3.loc[:,['HM_taxID', 'HM_name', 'HM_species_id', 'HM_species', 'HM_genus',\n",
    "                                       'HM_family', 'HM_order', 'HM_class', 'HM_phylum', 'HM_kingdom']]"
   ]
  },
  {
   "cell_type": "code",
   "execution_count": 60,
   "metadata": {},
   "outputs": [
    {
     "data": {
      "text/plain": [
       "Index(['HM_taxID', 'HM_name', 'HM_species_id', 'HM_species', 'HM_genus',\n",
       "       'HM_family', 'HM_order', 'HM_class', 'HM_phylum', 'HM_kingdom'],\n",
       "      dtype='object')"
      ]
     },
     "execution_count": 60,
     "metadata": {},
     "output_type": "execute_result"
    }
   ],
   "source": [
    "df_taxid_moon.columns"
   ]
  },
  {
   "cell_type": "code",
   "execution_count": 61,
   "metadata": {},
   "outputs": [
    {
     "data": {
      "text/plain": [
       "Index(['tax_id', 'species_id', 'name', 'species', 'genus', 'family', 'order',\n",
       "       'class', 'phylum', 'kingdom'],\n",
       "      dtype='object')"
      ]
     },
     "execution_count": 61,
     "metadata": {},
     "output_type": "execute_result"
    }
   ],
   "source": [
    "df_taxid_humanRef_lineage.columns"
   ]
  },
  {
   "cell_type": "code",
   "execution_count": 62,
   "metadata": {},
   "outputs": [],
   "source": [
    "df_taxid_moon.columns = ['tax_id',  'name','species_id', 'species', 'genus', 'family', 'order',\n",
    "       'class', 'phylum', 'kingdom']"
   ]
  },
  {
   "cell_type": "code",
   "execution_count": 65,
   "metadata": {},
   "outputs": [
    {
     "data": {
      "text/html": [
       "<div>\n",
       "<style scoped>\n",
       "    .dataframe tbody tr th:only-of-type {\n",
       "        vertical-align: middle;\n",
       "    }\n",
       "\n",
       "    .dataframe tbody tr th {\n",
       "        vertical-align: top;\n",
       "    }\n",
       "\n",
       "    .dataframe thead th {\n",
       "        text-align: right;\n",
       "    }\n",
       "</style>\n",
       "<table border=\"1\" class=\"dataframe\">\n",
       "  <thead>\n",
       "    <tr style=\"text-align: right;\">\n",
       "      <th></th>\n",
       "      <th>tax_id</th>\n",
       "      <th>name</th>\n",
       "      <th>species_id</th>\n",
       "      <th>species</th>\n",
       "      <th>genus</th>\n",
       "      <th>family</th>\n",
       "      <th>order</th>\n",
       "      <th>class</th>\n",
       "      <th>phylum</th>\n",
       "      <th>kingdom</th>\n",
       "    </tr>\n",
       "    <tr>\n",
       "      <th>index</th>\n",
       "      <th></th>\n",
       "      <th></th>\n",
       "      <th></th>\n",
       "      <th></th>\n",
       "      <th></th>\n",
       "      <th></th>\n",
       "      <th></th>\n",
       "      <th></th>\n",
       "      <th></th>\n",
       "      <th></th>\n",
       "    </tr>\n",
       "  </thead>\n",
       "  <tbody>\n",
       "    <tr>\n",
       "      <th>141</th>\n",
       "      <td>471870</td>\n",
       "      <td>Bacteroides intestinalis DSM 17393</td>\n",
       "      <td>329854</td>\n",
       "      <td>Bacteroides intestinalis</td>\n",
       "      <td>Bacteroides</td>\n",
       "      <td>Bacteroidaceae</td>\n",
       "      <td>Bacteroidales</td>\n",
       "      <td>Bacteroidia</td>\n",
       "      <td>Bacteroidetes</td>\n",
       "      <td>Bacteria</td>\n",
       "    </tr>\n",
       "    <tr>\n",
       "      <th>142</th>\n",
       "      <td>927665</td>\n",
       "      <td>Parabacteroides goldsteinii DSM 19448 = WAL 12034</td>\n",
       "      <td>328812</td>\n",
       "      <td>Parabacteroides goldsteinii</td>\n",
       "      <td>Parabacteroides</td>\n",
       "      <td>Tannerellaceae</td>\n",
       "      <td>Bacteroidales</td>\n",
       "      <td>Bacteroidia</td>\n",
       "      <td>Bacteroidetes</td>\n",
       "      <td>Bacteria</td>\n",
       "    </tr>\n",
       "    <tr>\n",
       "      <th>145</th>\n",
       "      <td>469590</td>\n",
       "      <td>Bacteroides sp. 2_2_4</td>\n",
       "      <td>469590</td>\n",
       "      <td>Bacteroides sp. 2_2_4</td>\n",
       "      <td>Bacteroides</td>\n",
       "      <td>Bacteroidaceae</td>\n",
       "      <td>Bacteroidales</td>\n",
       "      <td>Bacteroidia</td>\n",
       "      <td>Bacteroidetes</td>\n",
       "      <td>Bacteria</td>\n",
       "    </tr>\n",
       "    <tr>\n",
       "      <th>149</th>\n",
       "      <td>1077285</td>\n",
       "      <td>Bacteroides faecis MAJ27</td>\n",
       "      <td>674529</td>\n",
       "      <td>Bacteroides faecis</td>\n",
       "      <td>Bacteroides</td>\n",
       "      <td>Bacteroidaceae</td>\n",
       "      <td>Bacteroidales</td>\n",
       "      <td>Bacteroidia</td>\n",
       "      <td>Bacteroidetes</td>\n",
       "      <td>Bacteria</td>\n",
       "    </tr>\n",
       "    <tr>\n",
       "      <th>150</th>\n",
       "      <td>817</td>\n",
       "      <td>Bacteroides fragilis</td>\n",
       "      <td>817</td>\n",
       "      <td>Bacteroides fragilis</td>\n",
       "      <td>Bacteroides</td>\n",
       "      <td>Bacteroidaceae</td>\n",
       "      <td>Bacteroidales</td>\n",
       "      <td>Bacteroidia</td>\n",
       "      <td>Bacteroidetes</td>\n",
       "      <td>Bacteria</td>\n",
       "    </tr>\n",
       "  </tbody>\n",
       "</table>\n",
       "</div>"
      ],
      "text/plain": [
       "        tax_id                                               name species_id  \\\n",
       "index                                                                          \n",
       "141     471870                 Bacteroides intestinalis DSM 17393     329854   \n",
       "142     927665  Parabacteroides goldsteinii DSM 19448 = WAL 12034     328812   \n",
       "145     469590                              Bacteroides sp. 2_2_4     469590   \n",
       "149    1077285                           Bacteroides faecis MAJ27     674529   \n",
       "150        817                               Bacteroides fragilis        817   \n",
       "\n",
       "                           species            genus          family  \\\n",
       "index                                                                 \n",
       "141       Bacteroides intestinalis      Bacteroides  Bacteroidaceae   \n",
       "142    Parabacteroides goldsteinii  Parabacteroides  Tannerellaceae   \n",
       "145          Bacteroides sp. 2_2_4      Bacteroides  Bacteroidaceae   \n",
       "149             Bacteroides faecis      Bacteroides  Bacteroidaceae   \n",
       "150           Bacteroides fragilis      Bacteroides  Bacteroidaceae   \n",
       "\n",
       "               order        class         phylum   kingdom  \n",
       "index                                                       \n",
       "141    Bacteroidales  Bacteroidia  Bacteroidetes  Bacteria  \n",
       "142    Bacteroidales  Bacteroidia  Bacteroidetes  Bacteria  \n",
       "145    Bacteroidales  Bacteroidia  Bacteroidetes  Bacteria  \n",
       "149    Bacteroidales  Bacteroidia  Bacteroidetes  Bacteria  \n",
       "150    Bacteroidales  Bacteroidia  Bacteroidetes  Bacteria  "
      ]
     },
     "execution_count": 65,
     "metadata": {},
     "output_type": "execute_result"
    }
   ],
   "source": [
    "df_taxid_moon.head()"
   ]
  },
  {
   "cell_type": "code",
   "execution_count": 66,
   "metadata": {},
   "outputs": [
    {
     "name": "stdout",
     "output_type": "stream",
     "text": [
      "(4765, 10) (428, 10)\n"
     ]
    }
   ],
   "source": [
    "df_taxid_moon1  = df_taxid_moon.drop_duplicates(subset=['tax_id'])\n",
    "print(df_taxid_moon.shape, df_taxid_moon1.shape,)"
   ]
  },
  {
   "cell_type": "code",
   "execution_count": 68,
   "metadata": {},
   "outputs": [
    {
     "name": "stdout",
     "output_type": "stream",
     "text": [
      "(32198, 10)\n"
     ]
    }
   ],
   "source": [
    "#combine df_taxid_humanRef_lineage and df_taxid_moon1\n",
    "df_taxid = pd.concat([df_taxid_humanRef_lineage,df_taxid_moon1],ignore_index=True, sort=True)\n",
    "print(df_taxid.shape)"
   ]
  },
  {
   "cell_type": "code",
   "execution_count": 69,
   "metadata": {},
   "outputs": [
    {
     "name": "stdout",
     "output_type": "stream",
     "text": [
      "(31798, 10)\n"
     ]
    }
   ],
   "source": [
    "df_taxid = df_taxid.drop_duplicates(subset=['tax_id'])\n",
    "print(df_taxid.shape)"
   ]
  },
  {
   "cell_type": "code",
   "execution_count": 72,
   "metadata": {},
   "outputs": [],
   "source": [
    "df_taxid = df_taxid.loc[:,['tax_id',  'name','species_id', 'species', 'genus', 'family', 'order','class', 'phylum', 'kingdom']]"
   ]
  },
  {
   "cell_type": "code",
   "execution_count": 73,
   "metadata": {},
   "outputs": [],
   "source": [
    "df_taxid.to_csv('/mnt/d/linux/W/NCBI/MoonRef20180810/20180822MoonBioWeb.taxLineageName',sep='\\t',index=None)"
   ]
  },
  {
   "cell_type": "code",
   "execution_count": 74,
   "metadata": {},
   "outputs": [
    {
     "name": "stdout",
     "output_type": "stream",
     "text": [
      "(2715, 8)\n"
     ]
    }
   ],
   "source": [
    "df_species = df_taxid.loc[:,['species_id', 'species', 'genus', 'family', 'order', 'class', 'phylum', 'kingdom']]\n",
    "df_species = df_species.drop_duplicates(subset=['species_id'])\n",
    "print(df_species.shape)"
   ]
  },
  {
   "cell_type": "code",
   "execution_count": 75,
   "metadata": {},
   "outputs": [],
   "source": [
    "df_species.to_csv('/mnt/d/linux/W/NCBI/MoonRef20180810/20180822MoonBioWeb.speciesLineageName',sep='\\t',index=None)"
   ]
  },
  {
   "cell_type": "code",
   "execution_count": 82,
   "metadata": {},
   "outputs": [],
   "source": [
    "df_moonbiotech3 = df_moonbiotech3.copy()"
   ]
  },
  {
   "cell_type": "code",
   "execution_count": 83,
   "metadata": {},
   "outputs": [],
   "source": [
    "df_moonbiotech3['HM_subject'] = df_moonbiotech3['HM_subject'].apply(lambda x:x.split('.')[0])"
   ]
  },
  {
   "cell_type": "code",
   "execution_count": 84,
   "metadata": {},
   "outputs": [],
   "source": [
    "df_moonbiotech3 = df_moonbiotech3.replace('nan',np.nan)\n",
    "df_moonbiotech3.to_excel('/mnt/d/linux/W/NCBI/MoonRef20180810/20180822MoonBioWeb.moonLineages.xlsx',index=None,\n",
    "                       columns=['all_IDs', 'seq', 'seq_len', 'HM_subject', 'HM_matchLength', 'HM_identical', \n",
    "                                'HM_qcover', 'HM_identity', 'HM_taxID', 'HM_name', 'HM_species_id', 'HM_species',\n",
    "                                'HM_genus', 'HM_family', 'HM_order', 'HM_class', 'HM_phylum', 'HM_kingdom',\n",
    "                               'Isolation sources code','Isolation place', 'Isolation source', 'Isolation medium',\n",
    "                               'Cultivated medium', 'Amplified cultre medium', 'Cultivated TM', 'cultivated condition'])"
   ]
  },
  {
   "cell_type": "markdown",
   "metadata": {},
   "source": [
    "## Get 16s sequences from Ezbio which are in the df_taxid"
   ]
  },
  {
   "cell_type": "code",
   "execution_count": 90,
   "metadata": {},
   "outputs": [],
   "source": [
    "df_ezTax = pd.read_csv('/mnt/d/linux/W/NCBI/Ezbio20180810/Ezbio20180810.taxa',sep='\\t',header=None,dtype=str)"
   ]
  },
  {
   "cell_type": "code",
   "execution_count": 91,
   "metadata": {},
   "outputs": [
    {
     "data": {
      "text/plain": [
       "(51227, 2)"
      ]
     },
     "execution_count": 91,
     "metadata": {},
     "output_type": "execute_result"
    }
   ],
   "source": [
    "df_ezTax.shape"
   ]
  },
  {
   "cell_type": "code",
   "execution_count": 92,
   "metadata": {},
   "outputs": [
    {
     "data": {
      "text/html": [
       "<div>\n",
       "<style scoped>\n",
       "    .dataframe tbody tr th:only-of-type {\n",
       "        vertical-align: middle;\n",
       "    }\n",
       "\n",
       "    .dataframe tbody tr th {\n",
       "        vertical-align: top;\n",
       "    }\n",
       "\n",
       "    .dataframe thead th {\n",
       "        text-align: right;\n",
       "    }\n",
       "</style>\n",
       "<table border=\"1\" class=\"dataframe\">\n",
       "  <thead>\n",
       "    <tr style=\"text-align: right;\">\n",
       "      <th></th>\n",
       "      <th>0</th>\n",
       "      <th>1</th>\n",
       "    </tr>\n",
       "  </thead>\n",
       "  <tbody>\n",
       "    <tr>\n",
       "      <th>0</th>\n",
       "      <td>AY570677</td>\n",
       "      <td>115547</td>\n",
       "    </tr>\n",
       "    <tr>\n",
       "      <th>1</th>\n",
       "      <td>GQ134545</td>\n",
       "      <td>77133</td>\n",
       "    </tr>\n",
       "    <tr>\n",
       "      <th>2</th>\n",
       "      <td>AB048217</td>\n",
       "      <td>113567</td>\n",
       "    </tr>\n",
       "    <tr>\n",
       "      <th>3</th>\n",
       "      <td>CP015971</td>\n",
       "      <td>1850526</td>\n",
       "    </tr>\n",
       "    <tr>\n",
       "      <th>4</th>\n",
       "      <td>AY771936</td>\n",
       "      <td>34034</td>\n",
       "    </tr>\n",
       "  </tbody>\n",
       "</table>\n",
       "</div>"
      ],
      "text/plain": [
       "          0        1\n",
       "0  AY570677   115547\n",
       "1  GQ134545    77133\n",
       "2  AB048217   113567\n",
       "3  CP015971  1850526\n",
       "4  AY771936    34034"
      ]
     },
     "execution_count": 92,
     "metadata": {},
     "output_type": "execute_result"
    }
   ],
   "source": [
    "df_ezTax.head()"
   ]
  },
  {
   "cell_type": "code",
   "execution_count": 93,
   "metadata": {},
   "outputs": [],
   "source": [
    "st_taxBac = set(df_taxid['tax_id'])"
   ]
  },
  {
   "cell_type": "code",
   "execution_count": 94,
   "metadata": {},
   "outputs": [
    {
     "data": {
      "text/plain": [
       "(2579, 2)"
      ]
     },
     "execution_count": 94,
     "metadata": {},
     "output_type": "execute_result"
    }
   ],
   "source": [
    "df_ezTaxHM = df_ezTax[df_ezTax[1].apply(lambda x:x in st_taxBac)]\n",
    "df_ezTaxHM.shape"
   ]
  },
  {
   "cell_type": "code",
   "execution_count": 102,
   "metadata": {},
   "outputs": [],
   "source": [
    "df_ezTaxHM.to_csv('/mnt/d/linux/W/NCBI/Ezbio20180810/20180822HumanBacteria.taxa',sep='\\t',header=None,index=None)"
   ]
  },
  {
   "cell_type": "code",
   "execution_count": 98,
   "metadata": {},
   "outputs": [],
   "source": [
    "st_HM_accs = set(df_ezTaxHM[0])"
   ]
  },
  {
   "cell_type": "code",
   "execution_count": 101,
   "metadata": {},
   "outputs": [],
   "source": [
    "fout = open('/mnt/d/linux/W/NCBI/Ezbio20180810/20180822HumanBacteria.fasta','w')\n",
    "for _e in SeqIO.parse('/mnt/d/linux/W/NCBI/Ezbio20180810/Ezbio20180810.fasta','fasta'):\n",
    "    if _e.id.split('.')[0] in st_HM_accs:\n",
    "        fout.write('>'+_e.id.split('.')[0]+'\\n'+str(_e.seq)+'\\n')\n",
    "fout.close()"
   ]
  }
 ],
 "metadata": {
  "kernelspec": {
   "display_name": "Python 3",
   "language": "python",
   "name": "python3"
  },
  "language_info": {
   "codemirror_mode": {
    "name": "ipython",
    "version": 3
   },
   "file_extension": ".py",
   "mimetype": "text/x-python",
   "name": "python",
   "nbconvert_exporter": "python",
   "pygments_lexer": "ipython3",
   "version": "3.6.4"
  },
  "latex_envs": {
   "LaTeX_envs_menu_present": true,
   "autoclose": false,
   "autocomplete": true,
   "bibliofile": "biblio.bib",
   "cite_by": "apalike",
   "current_citInitial": 1,
   "eqLabelWithNumbers": true,
   "eqNumInitial": 1,
   "hotkeys": {
    "equation": "Ctrl-E",
    "itemize": "Ctrl-I"
   },
   "labels_anchors": false,
   "latex_user_defs": false,
   "report_style_numbering": false,
   "user_envs_cfg": false
  },
  "toc": {
   "base_numbering": 1,
   "nav_menu": {},
   "number_sections": true,
   "sideBar": true,
   "skip_h1_title": true,
   "title_cell": "Table of Contents",
   "title_sidebar": "Contents",
   "toc_cell": false,
   "toc_position": {},
   "toc_section_display": true,
   "toc_window_display": true
  }
 },
 "nbformat": 4,
 "nbformat_minor": 2
}
