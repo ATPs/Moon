{
 "cells": [
  {
   "cell_type": "markdown",
   "metadata": {},
   "source": [
    "# Summarize data from CWJ"
   ]
  },
  {
   "cell_type": "markdown",
   "metadata": {},
   "source": [
    "## Deal with data collected from 201803-20180418"
   ]
  },
  {
   "cell_type": "markdown",
   "metadata": {},
   "source": [
    "### change file extensions"
   ]
  },
  {
   "cell_type": "markdown",
   "metadata": {},
   "source": [
    "Files collected by CWJ.\n",
    "\n",
    "Some files with extension \".seq\" are acturally \".ab1\" files, change the extension names for those files.\n",
    "```\n",
    "folder = \"/mnt/d/linux/W/moon/Moon_CWJ/18-4/bacteria_partial_ab1/\"\n",
    "import glob\n",
    "files = glob.glob(folder + \"*\")\n",
    "\n",
    "import os\n",
    "for _f in files:\n",
    "    os.rename(_f,_f.replace(\".seq\",\".ab1\"))\n",
    "```"
   ]
  },
  {
   "cell_type": "markdown",
   "metadata": {},
   "source": [
    "### convert bactera .abi files to fasta"
   ]
  },
  {
   "cell_type": "markdown",
   "metadata": {},
   "source": [
    "```\n",
    "import sys\n",
    "import glob\n",
    "sys.path.append(\"/mnt/c/Users/ATPs/Documents/GitHub/Moon\")\n",
    "from TaxaFinder import abi\n",
    "folder = \"/mnt/d/linux/W/moon/Moon_CWJ/18-4/bacteria_all/bacteria_partial_ab1/\"\n",
    "fout = open(folder + \"20180420all.seq\",\"w\")\n",
    "files = glob.glob(folder +\"*.ab1\")\n",
    "for _f in files:\n",
    "    seq = abi.cleanABI(_f, qmin=20)\n",
    "    if seq == \"\":\n",
    "        print(_f)\n",
    "    fout.write(seq)\n",
    "fout.close()\n",
    "```\n",
    "\n",
    "* best sequence is shorter than 600 for file MN217539-1492R.ab1\n",
    "* best sequence is shorter than 600 for file MN217735-1492R.ab1\n",
    "* best sequence is shorter than 600 for file MN217843-1492R.ab1\n",
    "* best sequence is shorter than 600 for file MN218013-27F.ab1\n",
    "* best sequence is shorter than 600 for file MN218014-1492R.ab1\n",
    "* best sequence is shorter than 600 for file MN218014-27F.ab1\n",
    "* best sequence is shorter than 600 for file MN218065-27F.ab1"
   ]
  },
  {
   "cell_type": "markdown",
   "metadata": {},
   "source": [
    "### run scripts to get the results, bacteria\n",
    "```\n",
    "python3.6 /mnt/c/Users/ATPs/Documents/GitHub/Moon/TaxaFinder_Moon20180330 /mnt/d/linux/W/moon/Moon_CWJ/18-4/bacteria_all --db Ezbio\n",
    "python3.6 /mnt/c/Users/ATPs/Documents/GitHub/Moon/TaxaFinder_Moon20180330 /mnt/d/linux/W/moon/Moon_CWJ/18-4/bacteria_all --db SILVA\n",
    "```"
   ]
  },
  {
   "cell_type": "markdown",
   "metadata": {},
   "source": [
    "### convert fungi ab1 files to fasta file\n",
    "\n",
    "```\n",
    "import sys\n",
    "import glob\n",
    "sys.path.append(\"/mnt/c/Users/ATPs/Documents/GitHub/Moon\")\n",
    "from TaxaFinder import abi\n",
    "folder = \"/mnt/d/linux/W/moon/Moon_CWJ/18-4/fungi/ab1/\"\n",
    "fout = open(folder + \"../20180420fungiall.seq\",\"w\")\n",
    "files = glob.glob(folder +\"*.ab1\")\n",
    "for _f in files:\n",
    "    seq = abi.cleanABI(_f, qmin=15, minlen = 300)\n",
    "    fout.write(seq)\n",
    "fout.close()\n",
    "```"
   ]
  },
  {
   "cell_type": "markdown",
   "metadata": {},
   "source": [
    "## Dea with data before 201803"
   ]
  },
  {
   "cell_type": "markdown",
   "metadata": {},
   "source": [
    "### convert fungi ab1 files to fasta file\n",
    "\n",
    "```\n",
    "import sys\n",
    "import glob\n",
    "sys.path.append(\"/mnt/c/Users/ATPs/Documents/GitHub/Moon\")\n",
    "from TaxaFinder import abi\n",
    "folder = \"/mnt/d/linux/W/moon/Moon_CWJ/fungi/ab1/\"\n",
    "fout = open(folder + \"../20180427fungiall.seq\",\"w\")\n",
    "files = glob.glob(folder +\"*.ab1\")\n",
    "for _f in files:\n",
    "    seq = abi.cleanABI(_f, qmin=10, minlen = 300,outputfile=True)\n",
    "    fout.write(seq)\n",
    "fout.close()\n",
    "```\n",
    "\n",
    "`outputfile=True` to replace those with both `.ab1` and `.seq` files.\n",
    "\n",
    "result:  \n",
    "* best sequence is shorter than 300 for file\n",
    "        MN14910-ITS5.ab1 MN15528-ITS5.ab1 MN15602-ITS5.ab1 MN16796-ITS5.ab1 MN19445-ITS5_R.ab1\n",
    "* file with error\n",
    "        MN16215.ITS5.ab1\n",
    "\n",
    "correct MN16215.ITS5.ab1 manually by export the fasta sequence and add it to the `20180427fungiall.seq` file.\n"
   ]
  },
  {
   "cell_type": "markdown",
   "metadata": {},
   "source": [
    "### run linux batch to deal with bacteria\n",
    "\n",
    "Delete several files with no nucleotide sequences.\n",
    "Correct several files with character \"0\" in the sequence.\n",
    "\n",
    "```\n",
    "python3.6 /mnt/c/Users/ATPs/Documents/GitHub/Moon/TaxaFinder_Moon20180330 /mnt/d/linux/W/moon/Moon_CWJ/bacteria --db Ezbio\n",
    "python3.6 /mnt/c/Users/ATPs/Documents/GitHub/Moon/TaxaFinder_Moon20180330 /mnt/d/linux/W/moon/Moon_CWJ/bacteria --db SILVA\n",
    "```"
   ]
  },
  {
   "cell_type": "markdown",
   "metadata": {},
   "source": [
    "###  Yan Ying 201803\n",
    "```\n",
    "\n",
    "import pandas as pd\n",
    "file_lineage = '/mnt/d/linux/W/NCBI/taxonamy/speicesLineageName'\n",
    "df_lineage = pd.read_csv(file_lineage,sep='\\t',dtype=str)\n",
    "df_lineage.index = df_lineage.loc[:,'species']\n",
    "\n",
    "folder = '/mnt/d/linux/W/moon/Moon_CWJ/18-3/'\n",
    "file_bacteria = folder + 'bacteria.txt'\n",
    "file_fungi = folder + 'fungi.txt'\n",
    "\n",
    "df_bac = pd.read_csv(file_bacteria,sep='\\t',dtype=str)\n",
    "df_fun = pd.read_csv(file_fungi, sep='\\t', dtype=str)\n",
    "\n",
    "df_bac = df_bac.join(df_lineage, on='species',how='left',rsuffix=\"_xxx\")\n",
    "df_fun = df_fun.join(df_lineage, on='species',how='left',rsuffix=\"_xxx\")\n",
    "\n",
    "df_bac.to_csv(file_bacteria+'.csv')\n",
    "df_fun.to_csv(file_fungi+'.csv')\n",
    "\n",
    "\n",
    "```"
   ]
  },
  {
   "cell_type": "markdown",
   "metadata": {},
   "source": [
    "## data in Beijing\n",
    "\n",
    "change file names"
   ]
  },
  {
   "cell_type": "markdown",
   "metadata": {},
   "source": [
    "```\n",
    "import glob, os, re, shutil\n",
    "\n",
    "folder_b = '/mnt/d/linux/W/moon/Moon_CWJ/beijing/bacteria_BJ_ori/'\n",
    "folder_bn = '/mnt/d/linux/W/moon/Moon_CWJ/beijing/bacteria_BJ/'\n",
    "folder_f = '/mnt/d/linux/W/moon/Moon_CWJ/beijing/fungi_BJ_ori/'\n",
    "folder_fn = '/mnt/d/linux/W/moon/Moon_CWJ/beijing/fungi_BJ/'\n",
    "\n",
    "files_b = glob.glob(folder_b+'*')\n",
    "files_f = glob.glob(folder_f+'*')\n",
    "filenames_b = [os.path.basename(_f) for _f in files_b]\n",
    "filenames_f = [os.path.basename(_f) for _f in files_f]\n",
    "\n",
    "case_b1 = [e for e in filenames_b if re.match('^\\d{4}\\.\\w',e)]\n",
    "case_b2 = [e for e in filenames_b if re.match('^[A-Z]\\d{1,2}-\\d{3,4}-.*',e)]\n",
    "case_b3 = [e for e in filenames_b if re.match('^ban\\d-\\d{3,4}-.*',e)]\n",
    "case_b4 = [e for e in filenames_b if re.match('^BAN\\d-[A-Z]\\d{1,2}-.*',e)]\n",
    "case_b5 = [e for e in filenames_b if re.match('^Contig - \\d{4}.*',e)]\n",
    "case_b6 = [e for e in filenames_b if re.match('^Contig - BAN\\d-[A-Z]\\d{1,2}-.*',e)]\n",
    "case_b7 = [e for e in filenames_b if re.match('^Contig - ban\\d-\\d{3,4}.*',e)]\n",
    "case_b8 = [e for e in filenames_b if re.match('^ban\\d-\\d{4}\\w\\d.*',e)]\n",
    "\n",
    "filenames_bn = []\n",
    "filenames_bu = []\n",
    "\n",
    "for _f in case_b1:\n",
    "    _fn = _f\n",
    "    filenames_bn.append(_fn)\n",
    "    filenames_bu.append(_f)\n",
    "    shutil.copy(folder_b+_f, folder_bn+_fn)\n",
    "for _f in case_b2:\n",
    "    _fn = _f.split('-')[1] + '.' +_f.split('.')[-1]\n",
    "    filenames_bn.append(_fn)\n",
    "    filenames_bu.append(_f)\n",
    "    shutil.copy(folder_b+_f, folder_bn+_fn)\n",
    "for _f in case_b3:\n",
    "    _fn = _f.split('-')[1] + '.' +_f.split('.')[-1]\n",
    "    filenames_bn.append(_fn)\n",
    "    filenames_bu.append(_f)\n",
    "    shutil.copy(folder_b+_f, folder_bn+_fn)\n",
    "for _f in case_b4:\n",
    "    _fn = _f.split('-')[2]\n",
    "    filenames_bn.append(_fn)\n",
    "    filenames_bu.append(_f)\n",
    "    shutil.copy(folder_b+_f, folder_bn+_fn)\n",
    "for _f in case_b5:\n",
    "    _fn = _f[9:]\n",
    "    filenames_bn.append(_fn)\n",
    "    filenames_bu.append(_f)\n",
    "    shutil.copy(folder_b+_f, folder_bn+_fn)\n",
    "for _f in case_b6:\n",
    "    _fn = _f.split('-')[3]\n",
    "    filenames_bn.append(_fn)\n",
    "    filenames_bu.append(_f)\n",
    "    shutil.copy(folder_b+_f, folder_bn+_fn)\n",
    "for _f in case_b7:\n",
    "    filenames_bn.append(_fn)\n",
    "    filenames_bu.append(_f)\n",
    "    _fn = _f.split('-')[2][:4] + '.' +_f.split('.')[-1]\n",
    "    shutil.copy(folder_b+_f, folder_bn+_fn)\n",
    "for _f in case_b8:\n",
    "    filenames_bn.append(_fn)\n",
    "    filenames_bu.append(_f)\n",
    "    _fn = _f.split('-')[1][:4] + '.' +_f.split('.')[-1]\n",
    "    shutil.copy(folder_b+_f, folder_bn+_fn)\n",
    "\n",
    "filenames_fn = []\n",
    "for _f in filenames_f:\n",
    "    if _f == 'Strange':\n",
    "        continue\n",
    "    if re.match('^\\d+.*',_f):\n",
    "        _fn = re.split('_|-',_f)[0]+'.' +_f.split('.')[-1]\n",
    "    else:\n",
    "        _fn = re.split('-|_',_f)[1]+'.' +_f.split('.')[-1]\n",
    "    if re.search('[A-Z]',_fn):\n",
    "        _fn = re.split('[A-Z]',_fn)[0]+'.' +_f.split('.')[-1]\n",
    "    filenames_fn.append(_fn)\n",
    "    shutil.copy(folder_f+_f, folder_fn+_fn)\n",
    "\n",
    "filenames_fu = [e for e in filenames_fn if not re.match('^\\d*\\.\\w*$',e)]\n",
    "        \n",
    "        \n",
    "        \n",
    "```"
   ]
  }
 ],
 "metadata": {
  "kernelspec": {
   "display_name": "Python 3",
   "language": "python",
   "name": "python3"
  },
  "language_info": {
   "codemirror_mode": {
    "name": "ipython",
    "version": 3
   },
   "file_extension": ".py",
   "mimetype": "text/x-python",
   "name": "python",
   "nbconvert_exporter": "python",
   "pygments_lexer": "ipython3",
   "version": "3.6.4"
  },
  "toc": {
   "nav_menu": {},
   "number_sections": true,
   "sideBar": true,
   "skip_h1_title": true,
   "title_cell": "Table of Contents",
   "title_sidebar": "Contents",
   "toc_cell": false,
   "toc_position": {},
   "toc_section_display": true,
   "toc_window_display": true
  }
 },
 "nbformat": 4,
 "nbformat_minor": 2
}
