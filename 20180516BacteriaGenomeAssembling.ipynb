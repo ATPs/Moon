{
 "cells": [
  {
   "cell_type": "markdown",
   "metadata": {},
   "source": [
    "# MoonBio Bacteria Genome Assembling"
   ]
  },
  {
   "cell_type": "markdown",
   "metadata": {},
   "source": [
    "## 20180516 A5-miseq pipeline"
   ]
  },
  {
   "cell_type": "markdown",
   "metadata": {},
   "source": [
    "### Install Ubuntu in virtual machine to use many tools in Linux"
   ]
  },
  {
   "cell_type": "markdown",
   "metadata": {},
   "source": [
    "### run a5-miseq pipeline with Lin Wang's JS4 and Zidan's ZD18 raw data"
   ]
  },
  {
   "cell_type": "markdown",
   "metadata": {},
   "source": [
    "```\n",
    "cd /media/sf_linux/W/MoonNGS/raw/20180515Novogene3species/raw/JS4\n",
    "/media/sf_linux/P/a5miseq/a5_miseq_linux_20160825/bin/a5_pipeline.pl JS4V1.fq JS4V2.fq Nitrosomonas_eutropha_JS4\n",
    "cd /media/sf_linux/W/MoonNGS/raw/20180515Novogene3species/raw/ZD18\n",
    "/media/sf_linux/P/a5miseq/a5_miseq_linux_20160825/bin/a5_pipeline.pl ZD18V_1.fq ZD18V_2.fq Bacteroides_fragilis_ZD18\n",
    "```"
   ]
  },
  {
   "cell_type": "markdown",
   "metadata": {},
   "source": [
    "### run a5-miseq pipeline with Lin Wang's JS1 raw data"
   ]
  },
  {
   "cell_type": "markdown",
   "metadata": {},
   "source": [
    "```\n",
    "cd /media/sf_linux/W/MoonNGS/raw/20180515Novogene3species/raw/JS1/\n",
    "/media/sf_linux/P/a5miseq/a5_miseq_linux_20160825/bin/a5_pipeline.pl JS.1.L350_DMS22631-V_1.fq.clean JS.1.L350_DMS22631-V_2.fq.clean Nitrosomonas_eutropha_JS1\n",
    "\n",
    "```"
   ]
  },
  {
   "cell_type": "markdown",
   "metadata": {},
   "source": [
    "## 20180521 repeat work of novogene's report about JS1 sample"
   ]
  },
  {
   "cell_type": "markdown",
   "metadata": {},
   "source": [
    "### SOAP-denovo2 assembly"
   ]
  },
  {
   "cell_type": "markdown",
   "metadata": {},
   "source": [
    "```\n",
    "txt = '''/media/sf_linux/P/SOAPdenovo2/SOAPdenovo-127mer all -s /media/sf_linux/W/MoonNGS/raw/20180515Novogene3species/raw/JS1/soapDenovo/config.txt -K {kmer} -R -o /media/sf_linux/W/MoonNGS/raw/20180515Novogene3species/raw/JS1/soapDenovo/Nitrosomonas_eutropha_JS1.kmer{kmer} 1>ass.log 2>ass.err'''\n",
    "\n",
    "cd /media/sf_linux/W/MoonNGS/raw/20180515Novogene3species/raw/JS1/\n",
    "folder = '/mnt/d/linux/W/MoonNGS/raw/20180515Novogene3species/raw/JS1/soapDenovo/'\n",
    "import glob\n",
    "contigs = glob.glob(folder+'Nitrosomonas_eutropha_JS1.kmer*.scafSeq')\n",
    "\n",
    "import sys\n",
    "sys.path.append('/mnt/c/Users/ATPs/Documents/GitHub/XCProject/fasta')\n",
    "import largeFastaFile\n",
    "contig_seqs = [largeFastaFile.open_fasta_to_list(e) for e in contigs]\n",
    "def seqLenFilter(seqs,minlen=500):\n",
    "    _ls = []\n",
    "    for s in seqs:\n",
    "        if len(s.seq)>= minlen:\n",
    "            _ls.append(s)\n",
    "    return _ls\n",
    "contigs_seqs500 = [seqLenFilter(e) for e in contig_seqs]\n",
    "def countTotalLength(seqs):\n",
    "    n = 0\n",
    "    for s in seqs:\n",
    "        n += len(s.seq)\n",
    "    return n\n",
    "for _e in contigs_seqs500:\n",
    "    print(countTotalLength(_e), len(_e))\n",
    "    \n",
    "filename = folder+ 'Nitrosomonas_eutropha_JS1.kmer119.scafSeq_GapCloser'\n",
    "seqs = largeFastaFile.open_fasta_to_list(filename)\n",
    "seqs500 = seqLenFilter(seqs,minlen=500)\n",
    "print(countTotalLength(seqs500))\n",
    "print(len(seqs500))\n",
    "\n",
    "filename = folder+ 'Nitrosomonas_eutropha_JS1.kmer119.scafSeq'\n",
    "seqs = largeFastaFile.open_fasta_to_list(filename)\n",
    "seqs500 = seqLenFilter(seqs,minlen=500)\n",
    "print(countTotalLength(seqs500))\n",
    "print(len(seqs500))\n",
    "```"
   ]
  },
  {
   "cell_type": "code",
   "execution_count": null,
   "metadata": {},
   "outputs": [],
   "source": []
  }
 ],
 "metadata": {
  "kernelspec": {
   "display_name": "Python 3",
   "language": "python",
   "name": "python3"
  },
  "language_info": {
   "codemirror_mode": {
    "name": "ipython",
    "version": 3
   },
   "file_extension": ".py",
   "mimetype": "text/x-python",
   "name": "python",
   "nbconvert_exporter": "python",
   "pygments_lexer": "ipython3",
   "version": "3.6.4"
  },
  "toc": {
   "nav_menu": {
    "height": "123px",
    "width": "160px"
   },
   "number_sections": true,
   "sideBar": true,
   "skip_h1_title": true,
   "title_cell": "Table of Contents",
   "title_sidebar": "Contents",
   "toc_cell": false,
   "toc_position": {},
   "toc_section_display": true,
   "toc_window_display": true
  }
 },
 "nbformat": 4,
 "nbformat_minor": 2
}
